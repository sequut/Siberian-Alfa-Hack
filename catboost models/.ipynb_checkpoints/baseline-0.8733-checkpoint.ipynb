{
 "cells": [
  {
   "cell_type": "markdown",
   "id": "bba66d00-cc4e-4075-9687-1e6da40b4d37",
   "metadata": {
    "id": "bba66d00-cc4e-4075-9687-1e6da40b4d37"
   },
   "source": [
    "# baseline от команды г"
   ]
  },
  {
   "cell_type": "markdown",
   "id": "4e2e4008",
   "metadata": {},
   "source": [
    "#### *настройка ноутбука*"
   ]
  },
  {
   "cell_type": "code",
   "execution_count": 1,
   "id": "7d3bdff2",
   "metadata": {},
   "outputs": [],
   "source": [
    "#!pip install jupyterthemes # - импорт библиотеки для настройки тем\n",
    "#!chcp 65001 # - смена кодировки\n",
    "#!jt -t monokai -T -N -kl # - выбираем темную нужную мне тему\n",
    "#!jt -l # - показ всех тем\n",
    "#!jt -r # - возврат к базовой теме"
   ]
  },
  {
   "cell_type": "markdown",
   "id": "0db277b6",
   "metadata": {},
   "source": [
    "#### *необходимые настройки или скачивания для библиотек*"
   ]
  },
  {
   "cell_type": "code",
   "execution_count": 2,
   "id": "88e4f721",
   "metadata": {},
   "outputs": [],
   "source": [
    "#!pip install lightgbm\n",
    "#!pip install fastparquet\n",
    "#!pip install pandas==0.25\n",
    "#!pip install --upgrade pandas\n",
    "#!pip install --upgrade scipy\n",
    "#!pip install --upgrade pandas \"dask[complete]\""
   ]
  },
  {
   "cell_type": "markdown",
   "id": "efb3d2ff",
   "metadata": {},
   "source": [
    "#### *наши библиотеки*"
   ]
  },
  {
   "cell_type": "code",
   "execution_count": 3,
   "id": "0a609494-f725-4749-9a47-e15592616b94",
   "metadata": {
    "execution": {
     "iopub.execute_input": "2023-09-06T06:18:09.667959Z",
     "iopub.status.busy": "2023-09-06T06:18:09.667594Z",
     "iopub.status.idle": "2023-09-06T06:18:13.554794Z",
     "shell.execute_reply": "2023-09-06T06:18:13.553977Z",
     "shell.execute_reply.started": "2023-09-06T06:18:09.667934Z"
    },
    "id": "0a609494-f725-4749-9a47-e15592616b94",
    "tags": []
   },
   "outputs": [],
   "source": [
    "import pandas as pd\n",
    "from lightgbm import LGBMClassifier\n",
    "from sklearn.metrics import roc_auc_score\n",
    "from sklearn.model_selection import train_test_split\n",
    "from catboost import CatBoostClassifier, cv"
   ]
  },
  {
   "cell_type": "markdown",
   "id": "495edb84-1e54-4858-a999-bec5a0f2fb96",
   "metadata": {
    "id": "495edb84-1e54-4858-a999-bec5a0f2fb96"
   },
   "source": [
    "## *Загрузка данных*"
   ]
  },
  {
   "cell_type": "code",
   "execution_count": 4,
   "id": "2ca8b275",
   "metadata": {},
   "outputs": [
    {
     "data": {
      "text/plain": [
       "<pandas.io.parquet.PyArrowImpl at 0x182061fc650>"
      ]
     },
     "execution_count": 4,
     "metadata": {},
     "output_type": "execute_result"
    }
   ],
   "source": [
    "pd.io.parquet.get_engine('auto')"
   ]
  },
  {
   "cell_type": "code",
   "execution_count": 5,
   "id": "73b1d934-7ad5-4881-b589-d45392510161",
   "metadata": {
    "execution": {
     "iopub.execute_input": "2023-09-06T06:18:13.556679Z",
     "iopub.status.busy": "2023-09-06T06:18:13.556157Z",
     "iopub.status.idle": "2023-09-06T06:18:13.945247Z",
     "shell.execute_reply": "2023-09-06T06:18:13.944482Z",
     "shell.execute_reply.started": "2023-09-06T06:18:13.556655Z"
    },
    "id": "73b1d934-7ad5-4881-b589-d45392510161",
    "tags": []
   },
   "outputs": [],
   "source": [
    "train_df = pd.read_parquet('train.parquet')\n",
    "test_df = pd.read_parquet('test.parquet')"
   ]
  },
  {
   "cell_type": "code",
   "execution_count": 6,
   "id": "273ab3f4-5b7c-4f2f-8ee0-4ef3835eae67",
   "metadata": {
    "colab": {
     "base_uri": "https://localhost:8080/",
     "height": 255
    },
    "execution": {
     "iopub.execute_input": "2023-09-06T06:18:13.961513Z",
     "iopub.status.busy": "2023-09-06T06:18:13.961271Z",
     "iopub.status.idle": "2023-09-06T06:18:13.982369Z",
     "shell.execute_reply": "2023-09-06T06:18:13.981811Z",
     "shell.execute_reply.started": "2023-09-06T06:18:13.961493Z"
    },
    "id": "273ab3f4-5b7c-4f2f-8ee0-4ef3835eae67",
    "outputId": "941cdd31-06b8-4489-ba27-d63bda370fc3",
    "tags": []
   },
   "outputs": [
    {
     "data": {
      "text/html": [
       "<div>\n",
       "<style scoped>\n",
       "    .dataframe tbody tr th:only-of-type {\n",
       "        vertical-align: middle;\n",
       "    }\n",
       "\n",
       "    .dataframe tbody tr th {\n",
       "        vertical-align: top;\n",
       "    }\n",
       "\n",
       "    .dataframe thead th {\n",
       "        text-align: right;\n",
       "    }\n",
       "</style>\n",
       "<table border=\"1\" class=\"dataframe\">\n",
       "  <thead>\n",
       "    <tr style=\"text-align: right;\">\n",
       "      <th></th>\n",
       "      <th>id</th>\n",
       "      <th>rko_start_months</th>\n",
       "      <th>max_end_fact_fin_deals</th>\n",
       "      <th>max_end_plan_non_fin_deals</th>\n",
       "      <th>max_start_fin_deals</th>\n",
       "      <th>max_start_non_fin_deals</th>\n",
       "      <th>min_end_fact_fin_deals</th>\n",
       "      <th>min_end_plan_non_fin_deals</th>\n",
       "      <th>min_start_fin_deals</th>\n",
       "      <th>min_start_non_fin_deals</th>\n",
       "      <th>...</th>\n",
       "      <th>cnt_days_cred_g_oper_3m</th>\n",
       "      <th>sum_deb_h_oper_3m</th>\n",
       "      <th>cnt_deb_h_oper_3m</th>\n",
       "      <th>cnt_days_deb_h_oper_3m</th>\n",
       "      <th>sum_cred_h_oper_3m</th>\n",
       "      <th>cnt_cred_h_oper_3m</th>\n",
       "      <th>cnt_days_cred_h_oper_3m</th>\n",
       "      <th>target_1</th>\n",
       "      <th>target_2</th>\n",
       "      <th>total_target</th>\n",
       "    </tr>\n",
       "  </thead>\n",
       "  <tbody>\n",
       "    <tr>\n",
       "      <th>0</th>\n",
       "      <td>0</td>\n",
       "      <td>48.871217</td>\n",
       "      <td>NaN</td>\n",
       "      <td>NaN</td>\n",
       "      <td>NaN</td>\n",
       "      <td>NaN</td>\n",
       "      <td>NaN</td>\n",
       "      <td>NaN</td>\n",
       "      <td>NaN</td>\n",
       "      <td>NaN</td>\n",
       "      <td>...</td>\n",
       "      <td>0.064993</td>\n",
       "      <td>33196.020871</td>\n",
       "      <td>1.229488</td>\n",
       "      <td>0.396969</td>\n",
       "      <td>323523.957625</td>\n",
       "      <td>12.420855</td>\n",
       "      <td>9.069157</td>\n",
       "      <td>1</td>\n",
       "      <td>1</td>\n",
       "      <td>1</td>\n",
       "    </tr>\n",
       "    <tr>\n",
       "      <th>1</th>\n",
       "      <td>1</td>\n",
       "      <td>19.530576</td>\n",
       "      <td>NaN</td>\n",
       "      <td>NaN</td>\n",
       "      <td>NaN</td>\n",
       "      <td>NaN</td>\n",
       "      <td>NaN</td>\n",
       "      <td>NaN</td>\n",
       "      <td>NaN</td>\n",
       "      <td>NaN</td>\n",
       "      <td>...</td>\n",
       "      <td>0.270542</td>\n",
       "      <td>33195.488147</td>\n",
       "      <td>1.229488</td>\n",
       "      <td>-0.137339</td>\n",
       "      <td>145641.572203</td>\n",
       "      <td>2.124925</td>\n",
       "      <td>2.069157</td>\n",
       "      <td>0</td>\n",
       "      <td>0</td>\n",
       "      <td>0</td>\n",
       "    </tr>\n",
       "    <tr>\n",
       "      <th>2</th>\n",
       "      <td>2</td>\n",
       "      <td>9.706201</td>\n",
       "      <td>NaN</td>\n",
       "      <td>NaN</td>\n",
       "      <td>NaN</td>\n",
       "      <td>NaN</td>\n",
       "      <td>NaN</td>\n",
       "      <td>NaN</td>\n",
       "      <td>NaN</td>\n",
       "      <td>NaN</td>\n",
       "      <td>...</td>\n",
       "      <td>23.431839</td>\n",
       "      <td>265071.236918</td>\n",
       "      <td>4.229488</td>\n",
       "      <td>3.595162</td>\n",
       "      <td>125727.062161</td>\n",
       "      <td>0.999583</td>\n",
       "      <td>1.069157</td>\n",
       "      <td>0</td>\n",
       "      <td>0</td>\n",
       "      <td>0</td>\n",
       "    </tr>\n",
       "    <tr>\n",
       "      <th>3</th>\n",
       "      <td>3</td>\n",
       "      <td>92.569902</td>\n",
       "      <td>NaN</td>\n",
       "      <td>NaN</td>\n",
       "      <td>NaN</td>\n",
       "      <td>NaN</td>\n",
       "      <td>NaN</td>\n",
       "      <td>NaN</td>\n",
       "      <td>NaN</td>\n",
       "      <td>NaN</td>\n",
       "      <td>...</td>\n",
       "      <td>0.990581</td>\n",
       "      <td>495094.276542</td>\n",
       "      <td>9.229488</td>\n",
       "      <td>8.582252</td>\n",
       "      <td>370392.322955</td>\n",
       "      <td>3.066714</td>\n",
       "      <td>3.069157</td>\n",
       "      <td>0</td>\n",
       "      <td>0</td>\n",
       "      <td>0</td>\n",
       "    </tr>\n",
       "    <tr>\n",
       "      <th>4</th>\n",
       "      <td>4</td>\n",
       "      <td>26.538856</td>\n",
       "      <td>NaN</td>\n",
       "      <td>NaN</td>\n",
       "      <td>NaN</td>\n",
       "      <td>NaN</td>\n",
       "      <td>NaN</td>\n",
       "      <td>NaN</td>\n",
       "      <td>NaN</td>\n",
       "      <td>NaN</td>\n",
       "      <td>...</td>\n",
       "      <td>0.393927</td>\n",
       "      <td>33196.317418</td>\n",
       "      <td>1.229488</td>\n",
       "      <td>0.276606</td>\n",
       "      <td>125726.775788</td>\n",
       "      <td>1.219935</td>\n",
       "      <td>1.069157</td>\n",
       "      <td>0</td>\n",
       "      <td>0</td>\n",
       "      <td>0</td>\n",
       "    </tr>\n",
       "  </tbody>\n",
       "</table>\n",
       "<p>5 rows × 103 columns</p>\n",
       "</div>"
      ],
      "text/plain": [
       "   id  rko_start_months  max_end_fact_fin_deals  max_end_plan_non_fin_deals  \\\n",
       "0   0         48.871217                     NaN                         NaN   \n",
       "1   1         19.530576                     NaN                         NaN   \n",
       "2   2          9.706201                     NaN                         NaN   \n",
       "3   3         92.569902                     NaN                         NaN   \n",
       "4   4         26.538856                     NaN                         NaN   \n",
       "\n",
       "   max_start_fin_deals  max_start_non_fin_deals  min_end_fact_fin_deals  \\\n",
       "0                  NaN                      NaN                     NaN   \n",
       "1                  NaN                      NaN                     NaN   \n",
       "2                  NaN                      NaN                     NaN   \n",
       "3                  NaN                      NaN                     NaN   \n",
       "4                  NaN                      NaN                     NaN   \n",
       "\n",
       "   min_end_plan_non_fin_deals  min_start_fin_deals  min_start_non_fin_deals  \\\n",
       "0                         NaN                  NaN                      NaN   \n",
       "1                         NaN                  NaN                      NaN   \n",
       "2                         NaN                  NaN                      NaN   \n",
       "3                         NaN                  NaN                      NaN   \n",
       "4                         NaN                  NaN                      NaN   \n",
       "\n",
       "   ...  cnt_days_cred_g_oper_3m  sum_deb_h_oper_3m  cnt_deb_h_oper_3m  \\\n",
       "0  ...                 0.064993       33196.020871           1.229488   \n",
       "1  ...                 0.270542       33195.488147           1.229488   \n",
       "2  ...                23.431839      265071.236918           4.229488   \n",
       "3  ...                 0.990581      495094.276542           9.229488   \n",
       "4  ...                 0.393927       33196.317418           1.229488   \n",
       "\n",
       "   cnt_days_deb_h_oper_3m sum_cred_h_oper_3m cnt_cred_h_oper_3m  \\\n",
       "0                0.396969      323523.957625          12.420855   \n",
       "1               -0.137339      145641.572203           2.124925   \n",
       "2                3.595162      125727.062161           0.999583   \n",
       "3                8.582252      370392.322955           3.066714   \n",
       "4                0.276606      125726.775788           1.219935   \n",
       "\n",
       "  cnt_days_cred_h_oper_3m target_1  target_2  total_target  \n",
       "0                9.069157        1         1             1  \n",
       "1                2.069157        0         0             0  \n",
       "2                1.069157        0         0             0  \n",
       "3                3.069157        0         0             0  \n",
       "4                1.069157        0         0             0  \n",
       "\n",
       "[5 rows x 103 columns]"
      ]
     },
     "execution_count": 6,
     "metadata": {},
     "output_type": "execute_result"
    }
   ],
   "source": [
    "train_df.head()"
   ]
  },
  {
   "cell_type": "markdown",
   "id": "f90bc066",
   "metadata": {},
   "source": [
    "#### *есть два таргета*\n",
    "> ##### *1 - прекращение финансовой активности*\n",
    "> ##### *2 - закрытие РКО*\n",
    ">> итоговый таргет это максимум из первых двух, глянем распределение значений и заметим, что чаще люди прекращают активность(почти очевидно) "
   ]
  },
  {
   "cell_type": "code",
   "execution_count": 7,
   "id": "99ee25cc",
   "metadata": {},
   "outputs": [
    {
     "data": {
      "text/plain": [
       "target_1\n",
       "0    340359\n",
       "1     19641\n",
       "Name: count, dtype: int64"
      ]
     },
     "execution_count": 7,
     "metadata": {},
     "output_type": "execute_result"
    }
   ],
   "source": [
    "train_df['target_1'].value_counts()"
   ]
  },
  {
   "cell_type": "code",
   "execution_count": 8,
   "id": "6ed02544",
   "metadata": {},
   "outputs": [
    {
     "data": {
      "text/plain": [
       "target_2\n",
       "0    350524\n",
       "1      9476\n",
       "Name: count, dtype: int64"
      ]
     },
     "execution_count": 8,
     "metadata": {},
     "output_type": "execute_result"
    }
   ],
   "source": [
    "train_df['target_2'].value_counts()"
   ]
  },
  {
   "cell_type": "markdown",
   "id": "3ce6e1b7",
   "metadata": {},
   "source": [
    "#### *есть два стула удалять или нет города:*\n",
    ">##### * с одной стороны там много инфы в целых 3 колонках(\"city\", \"city_type\", \"index_city_code\")\n",
    ">##### * с другой очень много NaN (я бы оставил индекс, но с какими-то правками внутри него или нет)\n",
    "##### з.ы. в этой версии я их удалю"
   ]
  },
  {
   "cell_type": "code",
   "execution_count": 9,
   "id": "f985a988",
   "metadata": {},
   "outputs": [
    {
     "data": {
      "text/plain": [
       "103"
      ]
     },
     "execution_count": 9,
     "metadata": {},
     "output_type": "execute_result"
    }
   ],
   "source": [
    "len(train_df.columns)"
   ]
  },
  {
   "cell_type": "code",
   "execution_count": 10,
   "id": "cab187b4",
   "metadata": {},
   "outputs": [
    {
     "data": {
      "text/plain": [
       "100"
      ]
     },
     "execution_count": 10,
     "metadata": {},
     "output_type": "execute_result"
    }
   ],
   "source": [
    "train_df = train_df.drop(['city', 'index_city_code', 'city_type'], axis=1)\n",
    "len(train_df.columns)"
   ]
  },
  {
   "cell_type": "markdown",
   "id": "d0247985",
   "metadata": {},
   "source": [
    "#### *попробуем обработать все колонки, которые вынесены в категории*\n",
    "> - *города удалили*\n",
    "> - *сегмент я бы оставил, а все NaN заполняем просто нулями*\n",
    "> - *ОГРН месяц для меня не особо важно поэтому тоже удалим т.к. это просто месяц, который несет мало информации в себе*\n",
    "> - *ОГРН год вот это я бы оставил(на самом деле удалю т.к. считаю, что необходимая инфа для модели берется из другой статистики по месяцам и год мало влияет)*\n",
    "> - *код канала странная колонка, её удалю*\n",
    "> - *код отделения точно удаляю*\n",
    "> - *ОКВЭД оставляем это важно*\n",
    "\n",
    "##### *как итог удаляем все кроме ОКВЭД и сегмента, все NaN заполняем самым популярным значением из этих колонок(как вариант их можно оставить как категории и преобразить, но сейчас я просто их сделаю float64)*"
   ]
  },
  {
   "cell_type": "code",
   "execution_count": 11,
   "id": "c7545822",
   "metadata": {},
   "outputs": [
    {
     "data": {
      "text/plain": [
       "100"
      ]
     },
     "execution_count": 11,
     "metadata": {},
     "output_type": "execute_result"
    }
   ],
   "source": [
    "len(train_df.columns)"
   ]
  },
  {
   "cell_type": "code",
   "execution_count": 12,
   "id": "c7e2f440",
   "metadata": {},
   "outputs": [
    {
     "data": {
      "text/plain": [
       "dtype('float64')"
      ]
     },
     "execution_count": 12,
     "metadata": {},
     "output_type": "execute_result"
    }
   ],
   "source": [
    "columns = ['segment', 'okved']\n",
    "train_df[columns] = train_df[columns].astype(\"float64\")\n",
    "train_df['segment'].dtype"
   ]
  },
  {
   "cell_type": "code",
   "execution_count": 13,
   "id": "e523554c",
   "metadata": {},
   "outputs": [
    {
     "data": {
      "text/plain": [
       "False"
      ]
     },
     "execution_count": 13,
     "metadata": {},
     "output_type": "execute_result"
    }
   ],
   "source": [
    "exp1 = train_df['segment'].value_counts().sum() == len(train_df)\n",
    "exp2 = train_df['okved'].value_counts().sum() == len(train_df)\n",
    "exp1 or exp2"
   ]
  },
  {
   "cell_type": "code",
   "execution_count": 14,
   "id": "4a085198",
   "metadata": {},
   "outputs": [],
   "source": [
    "train_df['segment'] = train_df['segment'].fillna(train_df['segment'].value_counts().index[0])\n",
    "train_df['okved'] = train_df['okved'].fillna(train_df['okved'].value_counts().index[0])"
   ]
  },
  {
   "cell_type": "code",
   "execution_count": 15,
   "id": "ca27ee6e",
   "metadata": {},
   "outputs": [
    {
     "data": {
      "text/plain": [
       "True"
      ]
     },
     "execution_count": 15,
     "metadata": {},
     "output_type": "execute_result"
    }
   ],
   "source": [
    "exp1 = train_df['segment'].value_counts().sum() == len(train_df)\n",
    "exp2 = train_df['okved'].value_counts().sum() == len(train_df)\n",
    "exp1 and exp2"
   ]
  },
  {
   "cell_type": "code",
   "execution_count": 16,
   "id": "c9ca22ac",
   "metadata": {},
   "outputs": [
    {
     "data": {
      "text/plain": [
       "100"
      ]
     },
     "execution_count": 16,
     "metadata": {},
     "output_type": "execute_result"
    }
   ],
   "source": [
    "len(train_df.columns)"
   ]
  },
  {
   "cell_type": "code",
   "execution_count": 17,
   "id": "9836cb9a",
   "metadata": {},
   "outputs": [
    {
     "data": {
      "text/plain": [
       "96"
      ]
     },
     "execution_count": 17,
     "metadata": {},
     "output_type": "execute_result"
    }
   ],
   "source": [
    "train_df = train_df.drop(['channel_code', 'ogrn_month', \n",
    "                          'ogrn_year', 'branch_code'], axis=1)\n",
    "len(train_df.columns)"
   ]
  },
  {
   "cell_type": "markdown",
   "id": "3e261748",
   "metadata": {},
   "source": [
    "##### *все четко по длине теперь, ну и удалили ненужное*"
   ]
  },
  {
   "cell_type": "markdown",
   "id": "839b7167",
   "metadata": {},
   "source": [
    "##### ну что время для корреляции??(пока что отбросим все таргеты и id)"
   ]
  },
  {
   "cell_type": "code",
   "execution_count": 18,
   "id": "84d254ad",
   "metadata": {},
   "outputs": [],
   "source": [
    "y = train_df.total_target\n",
    "train_df = train_df.drop([\"id\", \"target_1\", \"target_2\", \"total_target\"], axis=1)"
   ]
  },
  {
   "cell_type": "code",
   "execution_count": 19,
   "id": "4db6f647",
   "metadata": {},
   "outputs": [],
   "source": [
    "import seaborn as sns"
   ]
  },
  {
   "cell_type": "code",
   "execution_count": 20,
   "id": "506475d7",
   "metadata": {},
   "outputs": [
    {
     "data": {
      "text/plain": [
       "<Axes: >"
      ]
     },
     "execution_count": 20,
     "metadata": {},
     "output_type": "execute_result"
    },
    {
     "data": {
      "image/png": "[encoded data removed]",
      "text/plain": [
       "<Figure size 640x480 with 2 Axes>"
      ]
     },
     "metadata": {},
     "output_type": "display_data"
    }
   ],
   "source": [
    "sns.heatmap(train_df.corr(), vmin=-1, vmax=1, center= 0)"
   ]
  },
  {
   "cell_type": "markdown",
   "id": "81c25a1a",
   "metadata": {},
   "source": [
    "##### мда мало понятного, но сейчас говнокодом постараюсь вывести все нормально"
   ]
  },
  {
   "cell_type": "code",
   "execution_count": 21,
   "id": "6c200a86",
   "metadata": {},
   "outputs": [
    {
     "data": {
      "text/plain": [
       "['rko_start_months',\n",
       " 'max_end_fact_fin_deals',\n",
       " 'max_end_plan_non_fin_deals',\n",
       " 'max_start_fin_deals',\n",
       " 'max_start_non_fin_deals']"
      ]
     },
     "execution_count": 21,
     "metadata": {},
     "output_type": "execute_result"
    }
   ],
   "source": [
    "first = list(train_df.columns)\n",
    "first[:5]"
   ]
  },
  {
   "cell_type": "code",
   "execution_count": 22,
   "id": "3bd46d4a",
   "metadata": {},
   "outputs": [
    {
     "name": "stdout",
     "output_type": "stream",
     "text": [
      "CPU times: total: 7.11 s\n",
      "Wall time: 15.8 s\n"
     ]
    }
   ],
   "source": [
    "%%time\n",
    "corr_matrix = train_df.loc[:,:].corr()"
   ]
  },
  {
   "cell_type": "code",
   "execution_count": 23,
   "id": "760ff616",
   "metadata": {},
   "outputs": [],
   "source": [
    "corr = corr_matrix.to_numpy()"
   ]
  },
  {
   "cell_type": "code",
   "execution_count": 24,
   "id": "8ad5aa2a",
   "metadata": {},
   "outputs": [
    {
     "data": {
      "text/plain": [
       "92"
      ]
     },
     "execution_count": 24,
     "metadata": {},
     "output_type": "execute_result"
    }
   ],
   "source": [
    "len(first)"
   ]
  },
  {
   "cell_type": "code",
   "execution_count": 25,
   "id": "be291bbb",
   "metadata": {},
   "outputs": [],
   "source": [
    "help_me = []\n",
    "for i in range((len(first))):\n",
    "    for j in range(len(first)):\n",
    "        if i!=j and [first[j], first[i], corr[j, i]] not in help_me:\n",
    "            help_me.append([first[i], first[j], corr[i, j]])"
   ]
  },
  {
   "cell_type": "code",
   "execution_count": 26,
   "id": "2320202d",
   "metadata": {},
   "outputs": [
    {
     "data": {
      "text/plain": [
       "4186"
      ]
     },
     "execution_count": 26,
     "metadata": {},
     "output_type": "execute_result"
    }
   ],
   "source": [
    "len(help_me)"
   ]
  },
  {
   "cell_type": "code",
   "execution_count": 27,
   "id": "ae70f8db",
   "metadata": {},
   "outputs": [
    {
     "data": {
      "text/plain": [
       "[['cnt_a_oper_1m', 'cnt_c_oper_1m', 0.5167170913604409],\n",
       " ['balance_amt_min', 'cnt_deb_f_oper_3m', 0.5180420824290729],\n",
       " ['cnt_c_oper_1m', 'cnt_cred_f_oper_1m', 0.5196510516078735],\n",
       " ['cnt_a_oper_3m', 'sum_cred_g_oper_3m', 0.5217379354814423],\n",
       " ['cnt_deb_f_oper_3m', 'cnt_deb_g_oper_3m', 0.527875735720927],\n",
       " ['cnt_days_cred_f_oper_1m', 'cnt_cred_f_oper_3m', 0.5556353546617487],\n",
       " ['cnt_days_cred_h_oper_1m', 'cnt_cred_h_oper_3m', 0.5623641256690128],\n",
       " ['cnt_cred_g_oper_1m', 'cnt_days_cred_g_oper_3m', 0.6350778159861407],\n",
       " ['cnt_cred_g_oper_3m', 'cnt_days_cred_g_oper_3m', 0.6481092726126781],\n",
       " ['sum_c_oper_1m', 'cnt_c_oper_3m', 0.6698969333043825],\n",
       " ['max_founderpres', 'ogrn_exist_months', 0.8967734335527877],\n",
       " ['sum_cred_g_oper_1m', 'sum_deb_g_oper_3m', 0.9005993725874963],\n",
       " ['sum_deb_g_oper_1m', 'sum_deb_g_oper_3m', 0.9074554693992195],\n",
       " ['cnt_cred_g_oper_1m', 'cnt_cred_g_oper_3m', 0.9701495944576674],\n",
       " ['sum_deb_g_oper_1m', 'sum_cred_g_oper_1m', 0.9741765115545096]]"
      ]
     },
     "execution_count": 27,
     "metadata": {},
     "output_type": "execute_result"
    }
   ],
   "source": [
    "sorted(help_me, key=lambda x: x[2])[-15:]"
   ]
  },
  {
   "cell_type": "markdown",
   "id": "d10eb793",
   "metadata": {},
   "source": [
    "##### *плохо?? да*\n",
    "> #####  *зато мы видим что можно удалить:*\n",
    "> * #####  *max_founderpres или ogrn_exist_months*\n",
    "> * ##### *cnt_cred_g_oper_1m или cnt_cred_g_oper_3m*\n",
    "> * ##### *sum_cred_g_oper_1m или sum_deb_g_oper_3m* \n",
    "> * ##### *sum_deb_g_oper_1m или sum_deb_g_oper_3m*\n",
    "> * ##### *sum_deb_g_oper_1m или sum_cred_g_oper_1m* \n",
    "\n",
    "\n",
    "\n",
    "##### итак удаляем:\n",
    "> * ##### *ogrn_exist_months*\n",
    "> * ##### *sum_deb_g_oper_3m*\n",
    "> * ##### *sum_cred_g_oper_1m*\n",
    "##### *получается какая-то вилка где точно теряется 1 признак просто так, ну и ладно*"
   ]
  },
  {
   "cell_type": "code",
   "execution_count": 28,
   "id": "c0775c90",
   "metadata": {},
   "outputs": [
    {
     "data": {
      "text/plain": [
       "92"
      ]
     },
     "execution_count": 28,
     "metadata": {},
     "output_type": "execute_result"
    }
   ],
   "source": [
    "len(train_df.columns)"
   ]
  },
  {
   "cell_type": "code",
   "execution_count": 29,
   "id": "23f185b0",
   "metadata": {},
   "outputs": [
    {
     "data": {
      "text/plain": [
       "89"
      ]
     },
     "execution_count": 29,
     "metadata": {},
     "output_type": "execute_result"
    }
   ],
   "source": [
    "train_df = train_df.drop([\"ogrn_exist_months\", \"sum_deb_g_oper_3m\", \"sum_cred_g_oper_1m\"], axis=1)\n",
    "len(train_df.columns)"
   ]
  },
  {
   "cell_type": "markdown",
   "id": "68de738f",
   "metadata": {},
   "source": [
    "##### также есть наитие что все данные по операциям за 1 месяц играют маловажную роль"
   ]
  },
  {
   "cell_type": "code",
   "execution_count": 30,
   "id": "ee0a3c20-70c9-4359-a267-722fcab498b2",
   "metadata": {
    "colab": {
     "base_uri": "https://localhost:8080/",
     "height": 255
    },
    "execution": {
     "iopub.execute_input": "2023-09-06T06:18:13.983350Z",
     "iopub.status.busy": "2023-09-06T06:18:13.983106Z",
     "iopub.status.idle": "2023-09-06T06:18:13.999637Z",
     "shell.execute_reply": "2023-09-06T06:18:13.999149Z",
     "shell.execute_reply.started": "2023-09-06T06:18:13.983331Z"
    },
    "id": "ee0a3c20-70c9-4359-a267-722fcab498b2",
    "outputId": "2a4267c1-23d8-486e-b496-20f26a8b1061",
    "tags": []
   },
   "outputs": [
    {
     "data": {
      "text/html": [
       "<div>\n",
       "<style scoped>\n",
       "    .dataframe tbody tr th:only-of-type {\n",
       "        vertical-align: middle;\n",
       "    }\n",
       "\n",
       "    .dataframe tbody tr th {\n",
       "        vertical-align: top;\n",
       "    }\n",
       "\n",
       "    .dataframe thead th {\n",
       "        text-align: right;\n",
       "    }\n",
       "</style>\n",
       "<table border=\"1\" class=\"dataframe\">\n",
       "  <thead>\n",
       "    <tr style=\"text-align: right;\">\n",
       "      <th></th>\n",
       "      <th>rko_start_months</th>\n",
       "      <th>max_end_fact_fin_deals</th>\n",
       "      <th>max_end_plan_non_fin_deals</th>\n",
       "      <th>max_start_fin_deals</th>\n",
       "      <th>max_start_non_fin_deals</th>\n",
       "      <th>min_end_fact_fin_deals</th>\n",
       "      <th>min_end_plan_non_fin_deals</th>\n",
       "      <th>min_start_fin_deals</th>\n",
       "      <th>min_start_non_fin_deals</th>\n",
       "      <th>balance_amt_avg</th>\n",
       "      <th>...</th>\n",
       "      <th>cnt_days_deb_g_oper_3m</th>\n",
       "      <th>sum_cred_g_oper_3m</th>\n",
       "      <th>cnt_cred_g_oper_3m</th>\n",
       "      <th>cnt_days_cred_g_oper_3m</th>\n",
       "      <th>sum_deb_h_oper_3m</th>\n",
       "      <th>cnt_deb_h_oper_3m</th>\n",
       "      <th>cnt_days_deb_h_oper_3m</th>\n",
       "      <th>sum_cred_h_oper_3m</th>\n",
       "      <th>cnt_cred_h_oper_3m</th>\n",
       "      <th>cnt_days_cred_h_oper_3m</th>\n",
       "    </tr>\n",
       "  </thead>\n",
       "  <tbody>\n",
       "    <tr>\n",
       "      <th>0</th>\n",
       "      <td>48.871217</td>\n",
       "      <td>NaN</td>\n",
       "      <td>NaN</td>\n",
       "      <td>NaN</td>\n",
       "      <td>NaN</td>\n",
       "      <td>NaN</td>\n",
       "      <td>NaN</td>\n",
       "      <td>NaN</td>\n",
       "      <td>NaN</td>\n",
       "      <td>27046.725915</td>\n",
       "      <td>...</td>\n",
       "      <td>0.515331</td>\n",
       "      <td>1.186720e+01</td>\n",
       "      <td>-0.354446</td>\n",
       "      <td>0.064993</td>\n",
       "      <td>33196.020871</td>\n",
       "      <td>1.229488</td>\n",
       "      <td>0.396969</td>\n",
       "      <td>323523.957625</td>\n",
       "      <td>12.420855</td>\n",
       "      <td>9.069157</td>\n",
       "    </tr>\n",
       "    <tr>\n",
       "      <th>1</th>\n",
       "      <td>19.530576</td>\n",
       "      <td>NaN</td>\n",
       "      <td>NaN</td>\n",
       "      <td>NaN</td>\n",
       "      <td>NaN</td>\n",
       "      <td>NaN</td>\n",
       "      <td>NaN</td>\n",
       "      <td>NaN</td>\n",
       "      <td>NaN</td>\n",
       "      <td>54167.143820</td>\n",
       "      <td>...</td>\n",
       "      <td>0.497933</td>\n",
       "      <td>1.204940e+01</td>\n",
       "      <td>0.358222</td>\n",
       "      <td>0.270542</td>\n",
       "      <td>33195.488147</td>\n",
       "      <td>1.229488</td>\n",
       "      <td>-0.137339</td>\n",
       "      <td>145641.572203</td>\n",
       "      <td>2.124925</td>\n",
       "      <td>2.069157</td>\n",
       "    </tr>\n",
       "    <tr>\n",
       "      <th>2</th>\n",
       "      <td>9.706201</td>\n",
       "      <td>NaN</td>\n",
       "      <td>NaN</td>\n",
       "      <td>NaN</td>\n",
       "      <td>NaN</td>\n",
       "      <td>NaN</td>\n",
       "      <td>NaN</td>\n",
       "      <td>NaN</td>\n",
       "      <td>NaN</td>\n",
       "      <td>292152.446430</td>\n",
       "      <td>...</td>\n",
       "      <td>23.154435</td>\n",
       "      <td>6.374099e+06</td>\n",
       "      <td>29.426595</td>\n",
       "      <td>23.431839</td>\n",
       "      <td>265071.236918</td>\n",
       "      <td>4.229488</td>\n",
       "      <td>3.595162</td>\n",
       "      <td>125727.062161</td>\n",
       "      <td>0.999583</td>\n",
       "      <td>1.069157</td>\n",
       "    </tr>\n",
       "    <tr>\n",
       "      <th>3</th>\n",
       "      <td>92.569902</td>\n",
       "      <td>NaN</td>\n",
       "      <td>NaN</td>\n",
       "      <td>NaN</td>\n",
       "      <td>NaN</td>\n",
       "      <td>NaN</td>\n",
       "      <td>NaN</td>\n",
       "      <td>NaN</td>\n",
       "      <td>NaN</td>\n",
       "      <td>142491.809620</td>\n",
       "      <td>...</td>\n",
       "      <td>9.378362</td>\n",
       "      <td>1.153105e+01</td>\n",
       "      <td>0.074660</td>\n",
       "      <td>0.990581</td>\n",
       "      <td>495094.276542</td>\n",
       "      <td>9.229488</td>\n",
       "      <td>8.582252</td>\n",
       "      <td>370392.322955</td>\n",
       "      <td>3.066714</td>\n",
       "      <td>3.069157</td>\n",
       "    </tr>\n",
       "    <tr>\n",
       "      <th>4</th>\n",
       "      <td>26.538856</td>\n",
       "      <td>NaN</td>\n",
       "      <td>NaN</td>\n",
       "      <td>NaN</td>\n",
       "      <td>NaN</td>\n",
       "      <td>NaN</td>\n",
       "      <td>NaN</td>\n",
       "      <td>NaN</td>\n",
       "      <td>NaN</td>\n",
       "      <td>72832.525309</td>\n",
       "      <td>...</td>\n",
       "      <td>1.944106</td>\n",
       "      <td>1.232242e+01</td>\n",
       "      <td>0.447267</td>\n",
       "      <td>0.393927</td>\n",
       "      <td>33196.317418</td>\n",
       "      <td>1.229488</td>\n",
       "      <td>0.276606</td>\n",
       "      <td>125726.775788</td>\n",
       "      <td>1.219935</td>\n",
       "      <td>1.069157</td>\n",
       "    </tr>\n",
       "  </tbody>\n",
       "</table>\n",
       "<p>5 rows × 89 columns</p>\n",
       "</div>"
      ],
      "text/plain": [
       "   rko_start_months  max_end_fact_fin_deals  max_end_plan_non_fin_deals  \\\n",
       "0         48.871217                     NaN                         NaN   \n",
       "1         19.530576                     NaN                         NaN   \n",
       "2          9.706201                     NaN                         NaN   \n",
       "3         92.569902                     NaN                         NaN   \n",
       "4         26.538856                     NaN                         NaN   \n",
       "\n",
       "   max_start_fin_deals  max_start_non_fin_deals  min_end_fact_fin_deals  \\\n",
       "0                  NaN                      NaN                     NaN   \n",
       "1                  NaN                      NaN                     NaN   \n",
       "2                  NaN                      NaN                     NaN   \n",
       "3                  NaN                      NaN                     NaN   \n",
       "4                  NaN                      NaN                     NaN   \n",
       "\n",
       "   min_end_plan_non_fin_deals  min_start_fin_deals  min_start_non_fin_deals  \\\n",
       "0                         NaN                  NaN                      NaN   \n",
       "1                         NaN                  NaN                      NaN   \n",
       "2                         NaN                  NaN                      NaN   \n",
       "3                         NaN                  NaN                      NaN   \n",
       "4                         NaN                  NaN                      NaN   \n",
       "\n",
       "   balance_amt_avg  ...  cnt_days_deb_g_oper_3m  sum_cred_g_oper_3m  \\\n",
       "0     27046.725915  ...                0.515331        1.186720e+01   \n",
       "1     54167.143820  ...                0.497933        1.204940e+01   \n",
       "2    292152.446430  ...               23.154435        6.374099e+06   \n",
       "3    142491.809620  ...                9.378362        1.153105e+01   \n",
       "4     72832.525309  ...                1.944106        1.232242e+01   \n",
       "\n",
       "   cnt_cred_g_oper_3m  cnt_days_cred_g_oper_3m  sum_deb_h_oper_3m  \\\n",
       "0           -0.354446                 0.064993       33196.020871   \n",
       "1            0.358222                 0.270542       33195.488147   \n",
       "2           29.426595                23.431839      265071.236918   \n",
       "3            0.074660                 0.990581      495094.276542   \n",
       "4            0.447267                 0.393927       33196.317418   \n",
       "\n",
       "   cnt_deb_h_oper_3m  cnt_days_deb_h_oper_3m  sum_cred_h_oper_3m  \\\n",
       "0           1.229488                0.396969       323523.957625   \n",
       "1           1.229488               -0.137339       145641.572203   \n",
       "2           4.229488                3.595162       125727.062161   \n",
       "3           9.229488                8.582252       370392.322955   \n",
       "4           1.229488                0.276606       125726.775788   \n",
       "\n",
       "   cnt_cred_h_oper_3m  cnt_days_cred_h_oper_3m  \n",
       "0           12.420855                 9.069157  \n",
       "1            2.124925                 2.069157  \n",
       "2            0.999583                 1.069157  \n",
       "3            3.066714                 3.069157  \n",
       "4            1.219935                 1.069157  \n",
       "\n",
       "[5 rows x 89 columns]"
      ]
     },
     "execution_count": 30,
     "metadata": {},
     "output_type": "execute_result"
    }
   ],
   "source": [
    "train_df.head()"
   ]
  },
  {
   "cell_type": "markdown",
   "id": "d2428642",
   "metadata": {},
   "source": [
    "#### *быстренько вспомним что делал и проделаем ещё раз с тестом :(*"
   ]
  },
  {
   "cell_type": "code",
   "execution_count": 31,
   "id": "986c872b",
   "metadata": {},
   "outputs": [
    {
     "data": {
      "text/plain": [
       "['ogrn_month',\n",
       " 'ogrn_exist_months',\n",
       " 'ogrn_year',\n",
       " 'sum_deb_g_oper_3m',\n",
       " 'id',\n",
       " 'index_city_code',\n",
       " 'city_type',\n",
       " 'channel_code',\n",
       " 'branch_code',\n",
       " 'city',\n",
       " 'sum_cred_g_oper_1m']"
      ]
     },
     "execution_count": 31,
     "metadata": {},
     "output_type": "execute_result"
    }
   ],
   "source": [
    "set1 = set(list(test_df.columns))\n",
    "set2 = set(list(train_df.columns))\n",
    "answ = list(set1 - set2)\n",
    "answ"
   ]
  },
  {
   "cell_type": "code",
   "execution_count": 32,
   "id": "9257c41c",
   "metadata": {},
   "outputs": [
    {
     "data": {
      "text/plain": [
       "False"
      ]
     },
     "execution_count": 32,
     "metadata": {},
     "output_type": "execute_result"
    }
   ],
   "source": [
    "len(test_df.columns) == len(train_df.columns)"
   ]
  },
  {
   "cell_type": "code",
   "execution_count": 33,
   "id": "6527674a",
   "metadata": {},
   "outputs": [
    {
     "data": {
      "text/plain": [
       "True"
      ]
     },
     "execution_count": 33,
     "metadata": {},
     "output_type": "execute_result"
    }
   ],
   "source": [
    "test_df = test_df.drop(answ, axis=1)\n",
    "len(test_df.columns) == len(train_df.columns)"
   ]
  },
  {
   "cell_type": "markdown",
   "id": "c5968925",
   "metadata": {},
   "source": [
    "#### *вроде ничего не забыли идем дальше*"
   ]
  },
  {
   "cell_type": "markdown",
   "id": "848a5194-66b9-4a1d-a5af-b97b62054125",
   "metadata": {
    "id": "848a5194-66b9-4a1d-a5af-b97b62054125"
   },
   "source": [
    "## Разбиение на train, validation"
   ]
  },
  {
   "cell_type": "code",
   "execution_count": 34,
   "id": "f9c24b53-9a3b-4121-bad4-523826a82301",
   "metadata": {
    "execution": {
     "iopub.execute_input": "2023-09-06T06:18:14.742723Z",
     "iopub.status.busy": "2023-09-06T06:18:14.742395Z",
     "iopub.status.idle": "2023-09-06T06:18:15.126388Z",
     "shell.execute_reply": "2023-09-06T06:18:15.125483Z",
     "shell.execute_reply.started": "2023-09-06T06:18:14.742706Z"
    },
    "id": "f9c24b53-9a3b-4121-bad4-523826a82301",
    "tags": []
   },
   "outputs": [],
   "source": [
    "X = train_df\n",
    "x_train, x_val, y_train, y_val = train_test_split(X, y,\n",
    "                                                  test_size=0.2,\n",
    "                                                  random_state=42)"
   ]
  },
  {
   "cell_type": "markdown",
   "id": "f8f7d39e-c56b-4700-a0dc-909888e1b254",
   "metadata": {
    "id": "f8f7d39e-c56b-4700-a0dc-909888e1b254"
   },
   "source": [
    "## Обучение базовой модели"
   ]
  },
  {
   "cell_type": "markdown",
   "id": "0a44b9c8",
   "metadata": {},
   "source": [
    "![](https://memepedia.ru/wp-content/uploads/2021/06/mem-based-4.jpg)"
   ]
  },
  {
   "cell_type": "code",
   "execution_count": 35,
   "id": "9289045d",
   "metadata": {},
   "outputs": [],
   "source": [
    "cat1 = CatBoostClassifier(learning_rate=0.1, random_state=42, metric_period=100)"
   ]
  },
  {
   "cell_type": "code",
   "execution_count": 36,
   "id": "864fee4f",
   "metadata": {},
   "outputs": [
    {
     "name": "stdout",
     "output_type": "stream",
     "text": [
      "0:\tlearn: 0.5632493\ttotal: 247ms\tremaining: 4m 6s\n",
      "100:\tlearn: 0.1703251\ttotal: 16.8s\tremaining: 2m 29s\n",
      "200:\tlearn: 0.1644886\ttotal: 32.3s\tremaining: 2m 8s\n",
      "300:\tlearn: 0.1595852\ttotal: 47.2s\tremaining: 1m 49s\n",
      "400:\tlearn: 0.1553680\ttotal: 1m 2s\tremaining: 1m 33s\n",
      "500:\tlearn: 0.1514949\ttotal: 1m 19s\tremaining: 1m 18s\n",
      "600:\tlearn: 0.1478896\ttotal: 1m 37s\tremaining: 1m 4s\n",
      "700:\tlearn: 0.1445393\ttotal: 1m 56s\tremaining: 49.6s\n",
      "800:\tlearn: 0.1410722\ttotal: 2m 16s\tremaining: 33.9s\n",
      "900:\tlearn: 0.1379112\ttotal: 2m 34s\tremaining: 17s\n",
      "999:\tlearn: 0.1347937\ttotal: 2m 55s\tremaining: 0us\n"
     ]
    },
    {
     "data": {
      "text/plain": [
       "<catboost.core.CatBoostClassifier at 0x18208903dd0>"
      ]
     },
     "execution_count": 36,
     "metadata": {},
     "output_type": "execute_result"
    }
   ],
   "source": [
    "cat1.fit(x_train, y_train)"
   ]
  },
  {
   "cell_type": "code",
   "execution_count": 37,
   "id": "bf4a32a9-ee54-4d27-9751-e09f394bed11",
   "metadata": {
    "colab": {
     "base_uri": "https://localhost:8080/",
     "height": 74
    },
    "execution": {
     "iopub.execute_input": "2023-09-06T06:18:28.031194Z",
     "iopub.status.busy": "2023-09-06T06:18:28.030729Z",
     "iopub.status.idle": "2023-09-06T06:18:32.761014Z",
     "shell.execute_reply": "2023-09-06T06:18:32.759926Z",
     "shell.execute_reply.started": "2023-09-06T06:18:28.031162Z"
    },
    "id": "bf4a32a9-ee54-4d27-9751-e09f394bed11",
    "outputId": "55f0b10b-2b94-4c01-9646-eb8657d5da6b",
    "tags": []
   },
   "outputs": [
    {
     "data": {
      "text/html": [
       "<style>#sk-container-id-1 {color: black;}#sk-container-id-1 pre{padding: 0;}#sk-container-id-1 div.sk-toggleable {background-color: white;}#sk-container-id-1 label.sk-toggleable__label {cursor: pointer;display: block;width: 100%;margin-bottom: 0;padding: 0.3em;box-sizing: border-box;text-align: center;}#sk-container-id-1 label.sk-toggleable__label-arrow:before {content: \"▸\";float: left;margin-right: 0.25em;color: #696969;}#sk-container-id-1 label.sk-toggleable__label-arrow:hover:before {color: black;}#sk-container-id-1 div.sk-estimator:hover label.sk-toggleable__label-arrow:before {color: black;}#sk-container-id-1 div.sk-toggleable__content {max-height: 0;max-width: 0;overflow: hidden;text-align: left;background-color: #f0f8ff;}#sk-container-id-1 div.sk-toggleable__content pre {margin: 0.2em;color: black;border-radius: 0.25em;background-color: #f0f8ff;}#sk-container-id-1 input.sk-toggleable__control:checked~div.sk-toggleable__content {max-height: 200px;max-width: 100%;overflow: auto;}#sk-container-id-1 input.sk-toggleable__control:checked~label.sk-toggleable__label-arrow:before {content: \"▾\";}#sk-container-id-1 div.sk-estimator input.sk-toggleable__control:checked~label.sk-toggleable__label {background-color: #d4ebff;}#sk-container-id-1 div.sk-label input.sk-toggleable__control:checked~label.sk-toggleable__label {background-color: #d4ebff;}#sk-container-id-1 input.sk-hidden--visually {border: 0;clip: rect(1px 1px 1px 1px);clip: rect(1px, 1px, 1px, 1px);height: 1px;margin: -1px;overflow: hidden;padding: 0;position: absolute;width: 1px;}#sk-container-id-1 div.sk-estimator {font-family: monospace;background-color: #f0f8ff;border: 1px dotted black;border-radius: 0.25em;box-sizing: border-box;margin-bottom: 0.5em;}#sk-container-id-1 div.sk-estimator:hover {background-color: #d4ebff;}#sk-container-id-1 div.sk-parallel-item::after {content: \"\";width: 100%;border-bottom: 1px solid gray;flex-grow: 1;}#sk-container-id-1 div.sk-label:hover label.sk-toggleable__label {background-color: #d4ebff;}#sk-container-id-1 div.sk-serial::before {content: \"\";position: absolute;border-left: 1px solid gray;box-sizing: border-box;top: 0;bottom: 0;left: 50%;z-index: 0;}#sk-container-id-1 div.sk-serial {display: flex;flex-direction: column;align-items: center;background-color: white;padding-right: 0.2em;padding-left: 0.2em;position: relative;}#sk-container-id-1 div.sk-item {position: relative;z-index: 1;}#sk-container-id-1 div.sk-parallel {display: flex;align-items: stretch;justify-content: center;background-color: white;position: relative;}#sk-container-id-1 div.sk-item::before, #sk-container-id-1 div.sk-parallel-item::before {content: \"\";position: absolute;border-left: 1px solid gray;box-sizing: border-box;top: 0;bottom: 0;left: 50%;z-index: -1;}#sk-container-id-1 div.sk-parallel-item {display: flex;flex-direction: column;z-index: 1;position: relative;background-color: white;}#sk-container-id-1 div.sk-parallel-item:first-child::after {align-self: flex-end;width: 50%;}#sk-container-id-1 div.sk-parallel-item:last-child::after {align-self: flex-start;width: 50%;}#sk-container-id-1 div.sk-parallel-item:only-child::after {width: 0;}#sk-container-id-1 div.sk-dashed-wrapped {border: 1px dashed gray;margin: 0 0.4em 0.5em 0.4em;box-sizing: border-box;padding-bottom: 0.4em;background-color: white;}#sk-container-id-1 div.sk-label label {font-family: monospace;font-weight: bold;display: inline-block;line-height: 1.2em;}#sk-container-id-1 div.sk-label-container {text-align: center;}#sk-container-id-1 div.sk-container {/* jupyter's `normalize.less` sets `[hidden] { display: none; }` but bootstrap.min.css set `[hidden] { display: none !important; }` so we also need the `!important` here to be able to override the default hidden behavior on the sphinx rendered scikit-learn.org. See: https://github.com/scikit-learn/scikit-learn/issues/21755 */display: inline-block !important;position: relative;}#sk-container-id-1 div.sk-text-repr-fallback {display: none;}</style><div id=\"sk-container-id-1\" class=\"sk-top-container\"><div class=\"sk-text-repr-fallback\"><pre>LGBMClassifier(random_state=42, verbosity=-1)</pre><b>In a Jupyter environment, please rerun this cell to show the HTML representation or trust the notebook. <br />On GitHub, the HTML representation is unable to render, please try loading this page with nbviewer.org.</b></div><div class=\"sk-container\" hidden><div class=\"sk-item\"><div class=\"sk-estimator sk-toggleable\"><input class=\"sk-toggleable__control sk-hidden--visually\" id=\"sk-estimator-id-1\" type=\"checkbox\" checked><label for=\"sk-estimator-id-1\" class=\"sk-toggleable__label sk-toggleable__label-arrow\">LGBMClassifier</label><div class=\"sk-toggleable__content\"><pre>LGBMClassifier(random_state=42, verbosity=-1)</pre></div></div></div></div></div>"
      ],
      "text/plain": [
       "LGBMClassifier(random_state=42, verbosity=-1)"
      ]
     },
     "execution_count": 37,
     "metadata": {},
     "output_type": "execute_result"
    }
   ],
   "source": [
    "model = LGBMClassifier(verbosity=-1, random_state=42)\n",
    "model.fit(x_train, y_train)"
   ]
  },
  {
   "cell_type": "markdown",
   "id": "d8584760",
   "metadata": {},
   "source": [
    "#### *сравним рез-ты моделек*"
   ]
  },
  {
   "cell_type": "code",
   "execution_count": 38,
   "id": "9ea95152",
   "metadata": {
    "colab": {
     "base_uri": "https://localhost:8080/"
    },
    "execution": {
     "iopub.execute_input": "2023-09-06T06:18:32.781475Z",
     "iopub.status.busy": "2023-09-06T06:18:32.781296Z",
     "iopub.status.idle": "2023-09-06T06:18:33.175929Z",
     "shell.execute_reply": "2023-09-06T06:18:33.175193Z",
     "shell.execute_reply.started": "2023-09-06T06:18:32.781459Z"
    },
    "id": "93841dd8-9ae0-49e9-a98e-b2a84e7a8ae5",
    "outputId": "285245a6-5567-4927-b399-a38ba3b24698",
    "tags": []
   },
   "outputs": [
    {
     "data": {
      "text/plain": [
       "0.8944863851987939"
      ]
     },
     "execution_count": 38,
     "metadata": {},
     "output_type": "execute_result"
    }
   ],
   "source": [
    "y_pred = model.predict_proba(x_val)[:, 1]\n",
    "roc_auc_score(y_val, y_pred)"
   ]
  },
  {
   "cell_type": "code",
   "execution_count": 39,
   "id": "de18624a",
   "metadata": {},
   "outputs": [
    {
     "data": {
      "text/plain": [
       "0.8991214426476521"
      ]
     },
     "execution_count": 39,
     "metadata": {},
     "output_type": "execute_result"
    }
   ],
   "source": [
    "y_pred = cat1.predict_proba(x_val)[:, 1]\n",
    "roc_auc_score(y_val, y_pred)"
   ]
  },
  {
   "cell_type": "code",
   "execution_count": 40,
   "id": "c4850ef5",
   "metadata": {},
   "outputs": [
    {
     "data": {
      "text/plain": [
       "0.8998616798823662"
      ]
     },
     "execution_count": 40,
     "metadata": {},
     "output_type": "execute_result"
    }
   ],
   "source": [
    "y_pred = cat1.predict_proba(x_val)[:, 1] + model.predict_proba(x_val)[:, 1]\n",
    "y_pred = y_pred / 2\n",
    "roc_auc_score(y_val, y_pred)"
   ]
  },
  {
   "cell_type": "markdown",
   "id": "a209b3d4-f62c-44b2-b41b-d2cb3099891c",
   "metadata": {
    "id": "a209b3d4-f62c-44b2-b41b-d2cb3099891c"
   },
   "source": [
    "## Выгрузка результатов"
   ]
  },
  {
   "cell_type": "code",
   "execution_count": 41,
   "id": "1785c02b",
   "metadata": {},
   "outputs": [],
   "source": [
    "columns = ['segment', 'okved']\n",
    "test_df[columns] = test_df[columns].astype(\"float64\")"
   ]
  },
  {
   "cell_type": "code",
   "execution_count": 42,
   "id": "05da78c6",
   "metadata": {},
   "outputs": [],
   "source": [
    "test_score = cat1.predict_proba(test_df)[:, 1]\n",
    "check = model.predict_proba(test_df)[:, 1]"
   ]
  },
  {
   "cell_type": "code",
   "execution_count": 43,
   "id": "72aa73c2",
   "metadata": {},
   "outputs": [],
   "source": [
    "test_score  = check + test_score\n",
    "test_score = test_score / 2"
   ]
  },
  {
   "cell_type": "code",
   "execution_count": 45,
   "id": "3ad3e8d1",
   "metadata": {},
   "outputs": [],
   "source": [
    "sample_submission_df = pd.read_csv(\"sample_submission.csv\")\n",
    "sample_submission_df[\"score\"] = test_score"
   ]
  },
  {
   "cell_type": "code",
   "execution_count": 46,
   "id": "dddc47cf",
   "metadata": {},
   "outputs": [],
   "source": [
    "sample_submission_df.head()\n",
    "sample_submission_df.to_csv(\"cat08733.csv\", index=False)"
   ]
  },
  {
   "cell_type": "markdown",
   "id": "fa390eb2",
   "metadata": {},
   "source": [
    "![](https://tlgrm.ru/_/stickers/486/e1b/486e1bb2-65ca-47ec-9ebe-6ccbdac7e3d3/4.webp)"
   ]
  },
  {
   "cell_type": "code",
   "execution_count": null,
   "id": "327ef0b7",
   "metadata": {},
   "outputs": [],
   "source": []
  }
 ],
 "metadata": {
  "colab": {
   "provenance": []
  },
  "kernelspec": {
   "display_name": "Python 3 (ipykernel)",
   "language": "python",
   "name": "python3"
  },
  "language_info": {
   "codemirror_mode": {
    "name": "ipython",
    "version": 3
   },
   "file_extension": ".py",
   "mimetype": "text/x-python",
   "name": "python",
   "nbconvert_exporter": "python",
   "pygments_lexer": "ipython3",
   "version": "3.11.5"
  }
 },
 "nbformat": 4,
 "nbformat_minor": 5
}
