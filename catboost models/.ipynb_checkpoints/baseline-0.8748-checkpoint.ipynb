{
 "cells": [
  {
   "cell_type": "markdown",
   "id": "bba66d00-cc4e-4075-9687-1e6da40b4d37",
   "metadata": {
    "id": "bba66d00-cc4e-4075-9687-1e6da40b4d37"
   },
   "source": [
    "# *baseline от команды г*"
   ]
  },
  {
   "cell_type": "markdown",
   "id": "98970c97",
   "metadata": {},
   "source": [
    "#### *настройка ноутбука*"
   ]
  },
  {
   "cell_type": "code",
   "execution_count": 1,
   "id": "f62a11a0",
   "metadata": {},
   "outputs": [],
   "source": [
    "#!pip install jupyterthemes # - импорт библиотеки для настройки тем\n",
    "#!chcp 65001 # - смена кодировки\n",
    "#!jt -t monokai -T -N -kl # - выбираем темную нужную мне тему\n",
    "#!jt -l # - показ всех тем\n",
    "#!jt -r # - возврат к базовой теме"
   ]
  },
  {
   "cell_type": "markdown",
   "id": "4333b1fa",
   "metadata": {},
   "source": [
    "#### *необходимые настройки или скачивания для библиотек*"
   ]
  },
  {
   "cell_type": "code",
   "execution_count": 2,
   "id": "3a948a77",
   "metadata": {},
   "outputs": [],
   "source": [
    "#!pip install lightgbm\n",
    "#!pip install fastparquet\n",
    "#!pip install pandas==0.25\n",
    "#!pip install --upgrade pandas\n",
    "#!pip install --upgrade scipy\n",
    "#!pip install --upgrade pandas \"dask[complete]\"\n",
    "#!pip install umap\n",
    "#!pip install catboost"
   ]
  },
  {
   "cell_type": "markdown",
   "id": "5c06e11e",
   "metadata": {},
   "source": [
    "#### *наши библиотеки*"
   ]
  },
  {
   "cell_type": "code",
   "execution_count": 3,
   "id": "b8566451",
   "metadata": {},
   "outputs": [],
   "source": [
    "import seaborn as sns"
   ]
  },
  {
   "cell_type": "code",
   "execution_count": 4,
   "id": "0a609494-f725-4749-9a47-e15592616b94",
   "metadata": {
    "execution": {
     "iopub.execute_input": "2023-09-06T06:18:09.667959Z",
     "iopub.status.busy": "2023-09-06T06:18:09.667594Z",
     "iopub.status.idle": "2023-09-06T06:18:13.554794Z",
     "shell.execute_reply": "2023-09-06T06:18:13.553977Z",
     "shell.execute_reply.started": "2023-09-06T06:18:09.667934Z"
    },
    "id": "0a609494-f725-4749-9a47-e15592616b94",
    "tags": []
   },
   "outputs": [],
   "source": [
    "import pandas as pd\n",
    "from lightgbm import LGBMClassifier\n",
    "from sklearn.metrics import roc_auc_score\n",
    "from sklearn.model_selection import train_test_split\n",
    "from catboost import CatBoostClassifier, cv\n",
    "import numpy as np\n",
    "from sklearn.preprocessing import StandardScaler"
   ]
  },
  {
   "cell_type": "markdown",
   "id": "495edb84-1e54-4858-a999-bec5a0f2fb96",
   "metadata": {
    "id": "495edb84-1e54-4858-a999-bec5a0f2fb96"
   },
   "source": [
    "## *Загрузка данных*"
   ]
  },
  {
   "cell_type": "code",
   "execution_count": 5,
   "id": "2ca8b275",
   "metadata": {},
   "outputs": [
    {
     "data": {
      "text/plain": [
       "<pandas.io.parquet.PyArrowImpl at 0x25819370850>"
      ]
     },
     "execution_count": 5,
     "metadata": {},
     "output_type": "execute_result"
    }
   ],
   "source": [
    "pd.io.parquet.get_engine('auto')"
   ]
  },
  {
   "cell_type": "code",
   "execution_count": 6,
   "id": "73b1d934-7ad5-4881-b589-d45392510161",
   "metadata": {
    "execution": {
     "iopub.execute_input": "2023-09-06T06:18:13.556679Z",
     "iopub.status.busy": "2023-09-06T06:18:13.556157Z",
     "iopub.status.idle": "2023-09-06T06:18:13.945247Z",
     "shell.execute_reply": "2023-09-06T06:18:13.944482Z",
     "shell.execute_reply.started": "2023-09-06T06:18:13.556655Z"
    },
    "id": "73b1d934-7ad5-4881-b589-d45392510161",
    "tags": []
   },
   "outputs": [],
   "source": [
    "train_df = pd.read_parquet('train.parquet')\n",
    "train_df_2 = pd.read_parquet('train.parquet')\n",
    "test_df = pd.read_parquet('test.parquet')"
   ]
  },
  {
   "cell_type": "code",
   "execution_count": 7,
   "id": "273ab3f4-5b7c-4f2f-8ee0-4ef3835eae67",
   "metadata": {
    "colab": {
     "base_uri": "https://localhost:8080/",
     "height": 255
    },
    "execution": {
     "iopub.execute_input": "2023-09-06T06:18:13.961513Z",
     "iopub.status.busy": "2023-09-06T06:18:13.961271Z",
     "iopub.status.idle": "2023-09-06T06:18:13.982369Z",
     "shell.execute_reply": "2023-09-06T06:18:13.981811Z",
     "shell.execute_reply.started": "2023-09-06T06:18:13.961493Z"
    },
    "id": "273ab3f4-5b7c-4f2f-8ee0-4ef3835eae67",
    "outputId": "941cdd31-06b8-4489-ba27-d63bda370fc3",
    "tags": []
   },
   "outputs": [
    {
     "data": {
      "text/html": [
       "<div>\n",
       "<style scoped>\n",
       "    .dataframe tbody tr th:only-of-type {\n",
       "        vertical-align: middle;\n",
       "    }\n",
       "\n",
       "    .dataframe tbody tr th {\n",
       "        vertical-align: top;\n",
       "    }\n",
       "\n",
       "    .dataframe thead th {\n",
       "        text-align: right;\n",
       "    }\n",
       "</style>\n",
       "<table border=\"1\" class=\"dataframe\">\n",
       "  <thead>\n",
       "    <tr style=\"text-align: right;\">\n",
       "      <th></th>\n",
       "      <th>id</th>\n",
       "      <th>rko_start_months</th>\n",
       "      <th>max_end_fact_fin_deals</th>\n",
       "      <th>max_end_plan_non_fin_deals</th>\n",
       "      <th>max_start_fin_deals</th>\n",
       "      <th>max_start_non_fin_deals</th>\n",
       "      <th>min_end_fact_fin_deals</th>\n",
       "      <th>min_end_plan_non_fin_deals</th>\n",
       "      <th>min_start_fin_deals</th>\n",
       "      <th>min_start_non_fin_deals</th>\n",
       "      <th>...</th>\n",
       "      <th>cnt_days_cred_g_oper_3m</th>\n",
       "      <th>sum_deb_h_oper_3m</th>\n",
       "      <th>cnt_deb_h_oper_3m</th>\n",
       "      <th>cnt_days_deb_h_oper_3m</th>\n",
       "      <th>sum_cred_h_oper_3m</th>\n",
       "      <th>cnt_cred_h_oper_3m</th>\n",
       "      <th>cnt_days_cred_h_oper_3m</th>\n",
       "      <th>target_1</th>\n",
       "      <th>target_2</th>\n",
       "      <th>total_target</th>\n",
       "    </tr>\n",
       "  </thead>\n",
       "  <tbody>\n",
       "    <tr>\n",
       "      <th>0</th>\n",
       "      <td>0</td>\n",
       "      <td>48.871217</td>\n",
       "      <td>NaN</td>\n",
       "      <td>NaN</td>\n",
       "      <td>NaN</td>\n",
       "      <td>NaN</td>\n",
       "      <td>NaN</td>\n",
       "      <td>NaN</td>\n",
       "      <td>NaN</td>\n",
       "      <td>NaN</td>\n",
       "      <td>...</td>\n",
       "      <td>0.064993</td>\n",
       "      <td>33196.020871</td>\n",
       "      <td>1.229488</td>\n",
       "      <td>0.396969</td>\n",
       "      <td>323523.957625</td>\n",
       "      <td>12.420855</td>\n",
       "      <td>9.069157</td>\n",
       "      <td>1</td>\n",
       "      <td>1</td>\n",
       "      <td>1</td>\n",
       "    </tr>\n",
       "    <tr>\n",
       "      <th>1</th>\n",
       "      <td>1</td>\n",
       "      <td>19.530576</td>\n",
       "      <td>NaN</td>\n",
       "      <td>NaN</td>\n",
       "      <td>NaN</td>\n",
       "      <td>NaN</td>\n",
       "      <td>NaN</td>\n",
       "      <td>NaN</td>\n",
       "      <td>NaN</td>\n",
       "      <td>NaN</td>\n",
       "      <td>...</td>\n",
       "      <td>0.270542</td>\n",
       "      <td>33195.488147</td>\n",
       "      <td>1.229488</td>\n",
       "      <td>-0.137339</td>\n",
       "      <td>145641.572203</td>\n",
       "      <td>2.124925</td>\n",
       "      <td>2.069157</td>\n",
       "      <td>0</td>\n",
       "      <td>0</td>\n",
       "      <td>0</td>\n",
       "    </tr>\n",
       "    <tr>\n",
       "      <th>2</th>\n",
       "      <td>2</td>\n",
       "      <td>9.706201</td>\n",
       "      <td>NaN</td>\n",
       "      <td>NaN</td>\n",
       "      <td>NaN</td>\n",
       "      <td>NaN</td>\n",
       "      <td>NaN</td>\n",
       "      <td>NaN</td>\n",
       "      <td>NaN</td>\n",
       "      <td>NaN</td>\n",
       "      <td>...</td>\n",
       "      <td>23.431839</td>\n",
       "      <td>265071.236918</td>\n",
       "      <td>4.229488</td>\n",
       "      <td>3.595162</td>\n",
       "      <td>125727.062161</td>\n",
       "      <td>0.999583</td>\n",
       "      <td>1.069157</td>\n",
       "      <td>0</td>\n",
       "      <td>0</td>\n",
       "      <td>0</td>\n",
       "    </tr>\n",
       "    <tr>\n",
       "      <th>3</th>\n",
       "      <td>3</td>\n",
       "      <td>92.569902</td>\n",
       "      <td>NaN</td>\n",
       "      <td>NaN</td>\n",
       "      <td>NaN</td>\n",
       "      <td>NaN</td>\n",
       "      <td>NaN</td>\n",
       "      <td>NaN</td>\n",
       "      <td>NaN</td>\n",
       "      <td>NaN</td>\n",
       "      <td>...</td>\n",
       "      <td>0.990581</td>\n",
       "      <td>495094.276542</td>\n",
       "      <td>9.229488</td>\n",
       "      <td>8.582252</td>\n",
       "      <td>370392.322955</td>\n",
       "      <td>3.066714</td>\n",
       "      <td>3.069157</td>\n",
       "      <td>0</td>\n",
       "      <td>0</td>\n",
       "      <td>0</td>\n",
       "    </tr>\n",
       "    <tr>\n",
       "      <th>4</th>\n",
       "      <td>4</td>\n",
       "      <td>26.538856</td>\n",
       "      <td>NaN</td>\n",
       "      <td>NaN</td>\n",
       "      <td>NaN</td>\n",
       "      <td>NaN</td>\n",
       "      <td>NaN</td>\n",
       "      <td>NaN</td>\n",
       "      <td>NaN</td>\n",
       "      <td>NaN</td>\n",
       "      <td>...</td>\n",
       "      <td>0.393927</td>\n",
       "      <td>33196.317418</td>\n",
       "      <td>1.229488</td>\n",
       "      <td>0.276606</td>\n",
       "      <td>125726.775788</td>\n",
       "      <td>1.219935</td>\n",
       "      <td>1.069157</td>\n",
       "      <td>0</td>\n",
       "      <td>0</td>\n",
       "      <td>0</td>\n",
       "    </tr>\n",
       "  </tbody>\n",
       "</table>\n",
       "<p>5 rows × 103 columns</p>\n",
       "</div>"
      ],
      "text/plain": [
       "   id  rko_start_months  max_end_fact_fin_deals  max_end_plan_non_fin_deals  \\\n",
       "0   0         48.871217                     NaN                         NaN   \n",
       "1   1         19.530576                     NaN                         NaN   \n",
       "2   2          9.706201                     NaN                         NaN   \n",
       "3   3         92.569902                     NaN                         NaN   \n",
       "4   4         26.538856                     NaN                         NaN   \n",
       "\n",
       "   max_start_fin_deals  max_start_non_fin_deals  min_end_fact_fin_deals  \\\n",
       "0                  NaN                      NaN                     NaN   \n",
       "1                  NaN                      NaN                     NaN   \n",
       "2                  NaN                      NaN                     NaN   \n",
       "3                  NaN                      NaN                     NaN   \n",
       "4                  NaN                      NaN                     NaN   \n",
       "\n",
       "   min_end_plan_non_fin_deals  min_start_fin_deals  min_start_non_fin_deals  \\\n",
       "0                         NaN                  NaN                      NaN   \n",
       "1                         NaN                  NaN                      NaN   \n",
       "2                         NaN                  NaN                      NaN   \n",
       "3                         NaN                  NaN                      NaN   \n",
       "4                         NaN                  NaN                      NaN   \n",
       "\n",
       "   ...  cnt_days_cred_g_oper_3m  sum_deb_h_oper_3m  cnt_deb_h_oper_3m  \\\n",
       "0  ...                 0.064993       33196.020871           1.229488   \n",
       "1  ...                 0.270542       33195.488147           1.229488   \n",
       "2  ...                23.431839      265071.236918           4.229488   \n",
       "3  ...                 0.990581      495094.276542           9.229488   \n",
       "4  ...                 0.393927       33196.317418           1.229488   \n",
       "\n",
       "   cnt_days_deb_h_oper_3m sum_cred_h_oper_3m cnt_cred_h_oper_3m  \\\n",
       "0                0.396969      323523.957625          12.420855   \n",
       "1               -0.137339      145641.572203           2.124925   \n",
       "2                3.595162      125727.062161           0.999583   \n",
       "3                8.582252      370392.322955           3.066714   \n",
       "4                0.276606      125726.775788           1.219935   \n",
       "\n",
       "  cnt_days_cred_h_oper_3m target_1  target_2  total_target  \n",
       "0                9.069157        1         1             1  \n",
       "1                2.069157        0         0             0  \n",
       "2                1.069157        0         0             0  \n",
       "3                3.069157        0         0             0  \n",
       "4                1.069157        0         0             0  \n",
       "\n",
       "[5 rows x 103 columns]"
      ]
     },
     "execution_count": 7,
     "metadata": {},
     "output_type": "execute_result"
    }
   ],
   "source": [
    "train_df.head()"
   ]
  },
  {
   "cell_type": "markdown",
   "id": "56bafd26",
   "metadata": {},
   "source": [
    "#### *есть два таргета*\n",
    "> ##### *1 - прекращение финансовой активности*\n",
    "> ##### *2 - закрытие РКО*\n",
    ">> итоговый таргет это максимум из первых двух, глянем распределение значений и заметим, что чаще люди прекращают активность(почти очевидно) "
   ]
  },
  {
   "cell_type": "code",
   "execution_count": 8,
   "id": "99ee25cc",
   "metadata": {},
   "outputs": [
    {
     "data": {
      "text/plain": [
       "target_1\n",
       "0    340359\n",
       "1     19641\n",
       "Name: count, dtype: int64"
      ]
     },
     "execution_count": 8,
     "metadata": {},
     "output_type": "execute_result"
    }
   ],
   "source": [
    "train_df['target_1'].value_counts()"
   ]
  },
  {
   "cell_type": "code",
   "execution_count": 9,
   "id": "6ed02544",
   "metadata": {},
   "outputs": [
    {
     "data": {
      "text/plain": [
       "target_2\n",
       "0    350524\n",
       "1      9476\n",
       "Name: count, dtype: int64"
      ]
     },
     "execution_count": 9,
     "metadata": {},
     "output_type": "execute_result"
    }
   ],
   "source": [
    "train_df['target_2'].value_counts()"
   ]
  },
  {
   "cell_type": "code",
   "execution_count": 10,
   "id": "6d6fc8a2",
   "metadata": {},
   "outputs": [
    {
     "data": {
      "text/html": [
       "<div>\n",
       "<style scoped>\n",
       "    .dataframe tbody tr th:only-of-type {\n",
       "        vertical-align: middle;\n",
       "    }\n",
       "\n",
       "    .dataframe tbody tr th {\n",
       "        vertical-align: top;\n",
       "    }\n",
       "\n",
       "    .dataframe thead th {\n",
       "        text-align: right;\n",
       "    }\n",
       "</style>\n",
       "<table border=\"1\" class=\"dataframe\">\n",
       "  <thead>\n",
       "    <tr style=\"text-align: right;\">\n",
       "      <th></th>\n",
       "      <th>target_1</th>\n",
       "      <th>target_2</th>\n",
       "      <th>total_target</th>\n",
       "    </tr>\n",
       "  </thead>\n",
       "  <tbody>\n",
       "    <tr>\n",
       "      <th>0</th>\n",
       "      <td>1</td>\n",
       "      <td>1</td>\n",
       "      <td>1</td>\n",
       "    </tr>\n",
       "    <tr>\n",
       "      <th>1</th>\n",
       "      <td>0</td>\n",
       "      <td>0</td>\n",
       "      <td>0</td>\n",
       "    </tr>\n",
       "    <tr>\n",
       "      <th>2</th>\n",
       "      <td>0</td>\n",
       "      <td>0</td>\n",
       "      <td>0</td>\n",
       "    </tr>\n",
       "    <tr>\n",
       "      <th>3</th>\n",
       "      <td>0</td>\n",
       "      <td>0</td>\n",
       "      <td>0</td>\n",
       "    </tr>\n",
       "    <tr>\n",
       "      <th>4</th>\n",
       "      <td>0</td>\n",
       "      <td>0</td>\n",
       "      <td>0</td>\n",
       "    </tr>\n",
       "  </tbody>\n",
       "</table>\n",
       "</div>"
      ],
      "text/plain": [
       "   target_1  target_2  total_target\n",
       "0         1         1             1\n",
       "1         0         0             0\n",
       "2         0         0             0\n",
       "3         0         0             0\n",
       "4         0         0             0"
      ]
     },
     "execution_count": 10,
     "metadata": {},
     "output_type": "execute_result"
    }
   ],
   "source": [
    "target_corr = train_df[['target_1', 'target_2', 'total_target']]\n",
    "target_corr.head()"
   ]
  },
  {
   "cell_type": "code",
   "execution_count": 11,
   "id": "04460469",
   "metadata": {},
   "outputs": [
    {
     "data": {
      "text/plain": [
       "<Axes: >"
      ]
     },
     "execution_count": 11,
     "metadata": {},
     "output_type": "execute_result"
    },
    {
     "data": {
      "image/png": "[encoded data removed]",
      "text/plain": [
       "<Figure size 640x480 with 2 Axes>"
      ]
     },
     "metadata": {},
     "output_type": "display_data"
    }
   ],
   "source": [
    "sns.heatmap(target_corr.corr(), vmin=-1, vmax=1, center=0)"
   ]
  },
  {
   "cell_type": "code",
   "execution_count": 12,
   "id": "b99845e5",
   "metadata": {},
   "outputs": [
    {
     "data": {
      "text/html": [
       "<div>\n",
       "<style scoped>\n",
       "    .dataframe tbody tr th:only-of-type {\n",
       "        vertical-align: middle;\n",
       "    }\n",
       "\n",
       "    .dataframe tbody tr th {\n",
       "        vertical-align: top;\n",
       "    }\n",
       "\n",
       "    .dataframe thead th {\n",
       "        text-align: right;\n",
       "    }\n",
       "</style>\n",
       "<table border=\"1\" class=\"dataframe\">\n",
       "  <thead>\n",
       "    <tr style=\"text-align: right;\">\n",
       "      <th></th>\n",
       "      <th>target_1</th>\n",
       "      <th>target_2</th>\n",
       "      <th>total_target</th>\n",
       "    </tr>\n",
       "  </thead>\n",
       "  <tbody>\n",
       "    <tr>\n",
       "      <th>target_1</th>\n",
       "      <td>1.000000</td>\n",
       "      <td>0.250967</td>\n",
       "      <td>0.873459</td>\n",
       "    </tr>\n",
       "    <tr>\n",
       "      <th>target_2</th>\n",
       "      <td>0.250967</td>\n",
       "      <td>1.000000</td>\n",
       "      <td>0.597837</td>\n",
       "    </tr>\n",
       "    <tr>\n",
       "      <th>total_target</th>\n",
       "      <td>0.873459</td>\n",
       "      <td>0.597837</td>\n",
       "      <td>1.000000</td>\n",
       "    </tr>\n",
       "  </tbody>\n",
       "</table>\n",
       "</div>"
      ],
      "text/plain": [
       "              target_1  target_2  total_target\n",
       "target_1      1.000000  0.250967      0.873459\n",
       "target_2      0.250967  1.000000      0.597837\n",
       "total_target  0.873459  0.597837      1.000000"
      ]
     },
     "execution_count": 12,
     "metadata": {},
     "output_type": "execute_result"
    }
   ],
   "source": [
    "target_corr.corr()"
   ]
  },
  {
   "cell_type": "code",
   "execution_count": 13,
   "id": "35db7ff4",
   "metadata": {},
   "outputs": [
    {
     "data": {
      "text/plain": [
       "3802"
      ]
     },
     "execution_count": 13,
     "metadata": {},
     "output_type": "execute_result"
    }
   ],
   "source": [
    "len(target_corr[(target_corr['target_1']==1) & (target_corr['target_2']==1)])"
   ]
  },
  {
   "cell_type": "code",
   "execution_count": 14,
   "id": "2a902f6a",
   "metadata": {},
   "outputs": [
    {
     "data": {
      "text/plain": [
       "25315"
      ]
     },
     "execution_count": 14,
     "metadata": {},
     "output_type": "execute_result"
    }
   ],
   "source": [
    "len(target_corr[(target_corr['total_target']==1)])"
   ]
  },
  {
   "cell_type": "markdown",
   "id": "fe1138fe",
   "metadata": {},
   "source": [
    "3802/25315 - случай когда оба таргета равные единице"
   ]
  },
  {
   "cell_type": "code",
   "execution_count": 15,
   "id": "84acbdba",
   "metadata": {},
   "outputs": [
    {
     "data": {
      "text/plain": [
       "15839"
      ]
     },
     "execution_count": 15,
     "metadata": {},
     "output_type": "execute_result"
    }
   ],
   "source": [
    "len(target_corr[(target_corr['target_1']==1) & (target_corr['target_2']==0)])"
   ]
  },
  {
   "cell_type": "code",
   "execution_count": 16,
   "id": "ce9ce058",
   "metadata": {},
   "outputs": [
    {
     "data": {
      "text/plain": [
       "5674"
      ]
     },
     "execution_count": 16,
     "metadata": {},
     "output_type": "execute_result"
    }
   ],
   "source": [
    "len(target_corr[(target_corr['target_1']==0) & (target_corr['target_2']==1)])"
   ]
  },
  {
   "cell_type": "markdown",
   "id": "f8883871",
   "metadata": {},
   "source": [
    "заметим, что в большинстве случаев влияет таргет 1 и лишь в 3 раза реже влияет только таргет 2, на этом моменте возникает идея обучать два таргета и потом все-таки сливать в один"
   ]
  },
  {
   "cell_type": "markdown",
   "id": "8b778609",
   "metadata": {},
   "source": [
    "#### *есть два стула удалять или нет города:*\n",
    ">##### * с одной стороны там много инфы в целых 3 колонках(\"city\", \"city_type\", \"index_city_code\")\n",
    ">##### * с другой очень много NaN (я бы оставил индекс, но с какими-то правками внутри него или нет)\n",
    "##### з.ы. в этой версии я их удалю"
   ]
  },
  {
   "cell_type": "code",
   "execution_count": 17,
   "id": "fbe19b5a",
   "metadata": {},
   "outputs": [
    {
     "data": {
      "text/plain": [
       "103"
      ]
     },
     "execution_count": 17,
     "metadata": {},
     "output_type": "execute_result"
    }
   ],
   "source": [
    "len(train_df.columns)"
   ]
  },
  {
   "cell_type": "code",
   "execution_count": 18,
   "id": "6db80918",
   "metadata": {},
   "outputs": [
    {
     "data": {
      "text/plain": [
       "100"
      ]
     },
     "execution_count": 18,
     "metadata": {},
     "output_type": "execute_result"
    }
   ],
   "source": [
    "train_df = train_df.drop(['city', 'index_city_code', 'city_type'], axis=1)\n",
    "train_df_2 = train_df_2.drop(['city', 'index_city_code', 'city_type'], axis=1)\n",
    "len(train_df.columns)"
   ]
  },
  {
   "cell_type": "markdown",
   "id": "1bc0f2b0",
   "metadata": {},
   "source": [
    "#### *попробуем обработать все колонки, которые вынесены в категории*\n",
    "> - *города удалили*\n",
    "> - *сегмент я бы оставил, а все NaN заполняем просто нулями*\n",
    "> - *ОГРН месяц для меня не особо важно поэтому тоже удалим т.к. это просто месяц, который несет мало информации в себе*\n",
    "> - *ОГРН год вот это я бы оставил(на самом деле удалю т.к. считаю, что необходимая инфа для модели берется из другой статистики по месяцам и год мало влияет)*\n",
    "> - *код канала странная колонка, её удалю*\n",
    "> - *код отделения точно удаляю*\n",
    "> - *ОКВЭД оставляем это важно*\n",
    "\n",
    "##### *как итог удаляем все кроме ОКВЭД и сегмента, все NaN заполняем самым популярным значением из этих колонок(как вариант их можно оставить как категории и преобразить, но сейчас я просто их сделаю float64)*"
   ]
  },
  {
   "cell_type": "code",
   "execution_count": 19,
   "id": "a58a04b6",
   "metadata": {},
   "outputs": [
    {
     "data": {
      "text/plain": [
       "100"
      ]
     },
     "execution_count": 19,
     "metadata": {},
     "output_type": "execute_result"
    }
   ],
   "source": [
    "len(train_df.columns)"
   ]
  },
  {
   "cell_type": "code",
   "execution_count": 20,
   "id": "fd949d0c",
   "metadata": {},
   "outputs": [
    {
     "data": {
      "text/plain": [
       "dtype('float64')"
      ]
     },
     "execution_count": 20,
     "metadata": {},
     "output_type": "execute_result"
    }
   ],
   "source": [
    "columns = ['segment', 'okved']\n",
    "train_df[columns] = train_df[columns].astype(\"float64\")\n",
    "train_df_2[columns] = train_df_2[columns].astype(\"float64\")\n",
    "train_df['segment'].dtype"
   ]
  },
  {
   "cell_type": "code",
   "execution_count": 21,
   "id": "d3072362",
   "metadata": {},
   "outputs": [
    {
     "data": {
      "text/plain": [
       "False"
      ]
     },
     "execution_count": 21,
     "metadata": {},
     "output_type": "execute_result"
    }
   ],
   "source": [
    "exp1 = train_df['segment'].value_counts().sum() == len(train_df)\n",
    "exp2 = train_df['okved'].value_counts().sum() == len(train_df)\n",
    "exp1 or exp2"
   ]
  },
  {
   "cell_type": "code",
   "execution_count": 22,
   "id": "405dd8c1",
   "metadata": {},
   "outputs": [],
   "source": [
    "train_df['segment'] = train_df['segment'].fillna(train_df['segment'].value_counts().index[0])\n",
    "train_df['okved'] = train_df['okved'].fillna(train_df['okved'].value_counts().index[0])"
   ]
  },
  {
   "cell_type": "code",
   "execution_count": 23,
   "id": "b1e22e26",
   "metadata": {},
   "outputs": [
    {
     "data": {
      "text/plain": [
       "True"
      ]
     },
     "execution_count": 23,
     "metadata": {},
     "output_type": "execute_result"
    }
   ],
   "source": [
    "exp1 = train_df['segment'].value_counts().sum() == len(train_df)\n",
    "exp2 = train_df['okved'].value_counts().sum() == len(train_df)\n",
    "exp1 and exp2"
   ]
  },
  {
   "cell_type": "code",
   "execution_count": 24,
   "id": "60988cd6",
   "metadata": {},
   "outputs": [
    {
     "data": {
      "text/plain": [
       "100"
      ]
     },
     "execution_count": 24,
     "metadata": {},
     "output_type": "execute_result"
    }
   ],
   "source": [
    "len(train_df.columns)"
   ]
  },
  {
   "cell_type": "code",
   "execution_count": 25,
   "id": "266427c4",
   "metadata": {},
   "outputs": [
    {
     "data": {
      "text/plain": [
       "96"
      ]
     },
     "execution_count": 25,
     "metadata": {},
     "output_type": "execute_result"
    }
   ],
   "source": [
    "train_df = train_df.drop(['channel_code', 'ogrn_month', \n",
    "                          'ogrn_year', 'branch_code'], axis=1)\n",
    "train_df_2 = train_df_2.drop(['channel_code', 'ogrn_month', \n",
    "                              'ogrn_year', 'branch_code'], axis=1)\n",
    "len(train_df.columns)"
   ]
  },
  {
   "cell_type": "markdown",
   "id": "88b3e2d9",
   "metadata": {},
   "source": [
    "##### *все четко по длине теперь, ну и удалили ненужное*"
   ]
  },
  {
   "cell_type": "markdown",
   "id": "1b547407",
   "metadata": {},
   "source": [
    "##### ну что время для корреляции??(пока что отбросим все таргеты и id)"
   ]
  },
  {
   "cell_type": "code",
   "execution_count": 26,
   "id": "d89fff5a",
   "metadata": {},
   "outputs": [],
   "source": [
    "train_df_corr = train_df.drop([\"id\", \"target_1\", \"target_2\"], axis=1)"
   ]
  },
  {
   "cell_type": "code",
   "execution_count": 27,
   "id": "0e85a131",
   "metadata": {},
   "outputs": [
    {
     "data": {
      "text/plain": [
       "<Axes: >"
      ]
     },
     "execution_count": 27,
     "metadata": {},
     "output_type": "execute_result"
    },
    {
     "data": {
      "image/png": "[encoded data removed]",
      "text/plain": [
       "<Figure size 640x480 with 2 Axes>"
      ]
     },
     "metadata": {},
     "output_type": "display_data"
    }
   ],
   "source": [
    "sns.heatmap(train_df_corr.corr(), vmin=-1, vmax=1, center= 0)"
   ]
  },
  {
   "cell_type": "markdown",
   "id": "1475ea28",
   "metadata": {},
   "source": [
    "##### мда мало понятного, но сейчас говнокодом постараюсь вывести все нормально"
   ]
  },
  {
   "cell_type": "code",
   "execution_count": 28,
   "id": "bf210fce",
   "metadata": {},
   "outputs": [
    {
     "data": {
      "text/plain": [
       "['id',\n",
       " 'rko_start_months',\n",
       " 'max_end_fact_fin_deals',\n",
       " 'max_end_plan_non_fin_deals',\n",
       " 'max_start_fin_deals']"
      ]
     },
     "execution_count": 28,
     "metadata": {},
     "output_type": "execute_result"
    }
   ],
   "source": [
    "first = list(train_df.columns)\n",
    "first[:5]"
   ]
  },
  {
   "cell_type": "code",
   "execution_count": 29,
   "id": "8a93a666",
   "metadata": {},
   "outputs": [
    {
     "name": "stdout",
     "output_type": "stream",
     "text": [
      "CPU times: total: 7.34 s\n",
      "Wall time: 19.4 s\n"
     ]
    }
   ],
   "source": [
    "%%time\n",
    "corr_matrix = train_df.loc[:,:].corr()"
   ]
  },
  {
   "cell_type": "code",
   "execution_count": 30,
   "id": "0de3f1e6",
   "metadata": {},
   "outputs": [],
   "source": [
    "corr = corr_matrix.to_numpy()"
   ]
  },
  {
   "cell_type": "code",
   "execution_count": 31,
   "id": "d912ba70",
   "metadata": {},
   "outputs": [
    {
     "data": {
      "text/plain": [
       "96"
      ]
     },
     "execution_count": 31,
     "metadata": {},
     "output_type": "execute_result"
    }
   ],
   "source": [
    "len(first)"
   ]
  },
  {
   "cell_type": "code",
   "execution_count": 32,
   "id": "44e2e79c",
   "metadata": {},
   "outputs": [],
   "source": [
    "help_me = []\n",
    "for i in range(len(first)):\n",
    "    for j in range(len(first)):\n",
    "        if i!=j and [first[j], first[i], corr[j, i]] not in help_me:\n",
    "            help_me.append([first[i], first[j], corr[i, j]])"
   ]
  },
  {
   "cell_type": "code",
   "execution_count": 33,
   "id": "c281897f",
   "metadata": {},
   "outputs": [
    {
     "data": {
      "text/plain": [
       "4560"
      ]
     },
     "execution_count": 33,
     "metadata": {},
     "output_type": "execute_result"
    }
   ],
   "source": [
    "len(help_me)"
   ]
  },
  {
   "cell_type": "code",
   "execution_count": 34,
   "id": "8a08b399",
   "metadata": {},
   "outputs": [
    {
     "data": {
      "text/plain": [
       "[['cnt_c_oper_1m', 'cnt_cred_f_oper_1m', 0.5196510516078735],\n",
       " ['cnt_a_oper_3m', 'sum_cred_g_oper_3m', 0.5217379354814423],\n",
       " ['cnt_deb_f_oper_3m', 'cnt_deb_g_oper_3m', 0.527875735720927],\n",
       " ['cnt_days_cred_f_oper_1m', 'cnt_cred_f_oper_3m', 0.5556353546617487],\n",
       " ['cnt_days_cred_h_oper_1m', 'cnt_cred_h_oper_3m', 0.5623641256690128],\n",
       " ['target_2', 'total_target', 0.5978370206164838],\n",
       " ['cnt_cred_g_oper_1m', 'cnt_days_cred_g_oper_3m', 0.6350778159861407],\n",
       " ['cnt_cred_g_oper_3m', 'cnt_days_cred_g_oper_3m', 0.6481092726126781],\n",
       " ['sum_c_oper_1m', 'cnt_c_oper_3m', 0.6698969333043825],\n",
       " ['target_1', 'total_target', 0.8734586230970085],\n",
       " ['max_founderpres', 'ogrn_exist_months', 0.8967734335527877],\n",
       " ['sum_cred_g_oper_1m', 'sum_deb_g_oper_3m', 0.9005993725874963],\n",
       " ['sum_deb_g_oper_1m', 'sum_deb_g_oper_3m', 0.9074554693992195],\n",
       " ['cnt_cred_g_oper_1m', 'cnt_cred_g_oper_3m', 0.9701495944576674],\n",
       " ['sum_deb_g_oper_1m', 'sum_cred_g_oper_1m', 0.9741765115545096]]"
      ]
     },
     "execution_count": 34,
     "metadata": {},
     "output_type": "execute_result"
    }
   ],
   "source": [
    "sorted(help_me, key=lambda x: x[2])[-15:]"
   ]
  },
  {
   "cell_type": "markdown",
   "id": "19e2e5ce",
   "metadata": {},
   "source": [
    "##### *плохо?? да*\n",
    "> #####  *зато мы видим что можно удалить:*\n",
    "> * #####  *max_founderpres или ogrn_exist_months*\n",
    "> * ##### *cnt_cred_g_oper_1m или cnt_cred_g_oper_3m*\n",
    "> * ##### *sum_cred_g_oper_1m или sum_deb_g_oper_3m* \n",
    "> * ##### *sum_deb_g_oper_1m или sum_deb_g_oper_3m*\n",
    "> * ##### *sum_deb_g_oper_1m или sum_cred_g_oper_1m* \n",
    "\n",
    "\n",
    "\n",
    "##### итак удаляем:\n",
    "> * ##### *ogrn_exist_months (поскольку хочу оставить именно количество дней, а не месяцев)*\n",
    "> * ##### *sum_deb_g_oper_3m*\n",
    "> * ##### *sum_cred_g_oper_1m*\n",
    "##### *получается какая-то вилка где точно теряется 1 признак просто так, ну ладно сказал я себе и решил, что похуй*"
   ]
  },
  {
   "cell_type": "code",
   "execution_count": 35,
   "id": "1583d148",
   "metadata": {},
   "outputs": [],
   "source": [
    "def correl(X_train, thresh):\n",
    "    cor = X_train.corr()\n",
    "    c1 = cor.stack().sort_values(ascending=False).drop_duplicates()\n",
    "    all_cor = c1[c1.values != 1]\n",
    "    return all_cor[abs(all_cor) > thresh]"
   ]
  },
  {
   "cell_type": "code",
   "execution_count": 36,
   "id": "c626d872",
   "metadata": {},
   "outputs": [],
   "source": [
    "#correl(train_df, 0.5)"
   ]
  },
  {
   "cell_type": "code",
   "execution_count": 37,
   "id": "2e45162d",
   "metadata": {},
   "outputs": [
    {
     "data": {
      "text/plain": [
       "96"
      ]
     },
     "execution_count": 37,
     "metadata": {},
     "output_type": "execute_result"
    }
   ],
   "source": [
    "len(train_df.columns)"
   ]
  },
  {
   "cell_type": "code",
   "execution_count": 38,
   "id": "c93ec207",
   "metadata": {},
   "outputs": [
    {
     "data": {
      "text/plain": [
       "93"
      ]
     },
     "execution_count": 38,
     "metadata": {},
     "output_type": "execute_result"
    }
   ],
   "source": [
    "train_df = train_df.drop([\"ogrn_exist_months\", \"sum_deb_g_oper_3m\", \n",
    "                          \"sum_cred_g_oper_1m\"], axis=1)\n",
    "train_df_2 = train_df_2.drop([\"ogrn_exist_months\", \"sum_deb_g_oper_3m\", \n",
    "                          \"sum_cred_g_oper_1m\"], axis=1)\n",
    "len(train_df.columns)"
   ]
  },
  {
   "cell_type": "code",
   "execution_count": 39,
   "id": "475a6765",
   "metadata": {},
   "outputs": [
    {
     "data": {
      "text/plain": [
       "93"
      ]
     },
     "execution_count": 39,
     "metadata": {},
     "output_type": "execute_result"
    }
   ],
   "source": [
    "len(train_df_2.columns)"
   ]
  },
  {
   "cell_type": "markdown",
   "id": "58bc81c6",
   "metadata": {},
   "source": [
    "##### также есть наитие что все данные по операциям за 1 месяц играют маловажную роль"
   ]
  },
  {
   "cell_type": "code",
   "execution_count": 40,
   "id": "bc2160f4",
   "metadata": {},
   "outputs": [],
   "source": [
    "train_df = train_df.drop(['id'], axis=1)\n",
    "train_df_2 = train_df_2.drop(['id'], axis=1)"
   ]
  },
  {
   "cell_type": "code",
   "execution_count": 41,
   "id": "ee0a3c20-70c9-4359-a267-722fcab498b2",
   "metadata": {
    "colab": {
     "base_uri": "https://localhost:8080/",
     "height": 255
    },
    "execution": {
     "iopub.execute_input": "2023-09-06T06:18:13.983350Z",
     "iopub.status.busy": "2023-09-06T06:18:13.983106Z",
     "iopub.status.idle": "2023-09-06T06:18:13.999637Z",
     "shell.execute_reply": "2023-09-06T06:18:13.999149Z",
     "shell.execute_reply.started": "2023-09-06T06:18:13.983331Z"
    },
    "id": "ee0a3c20-70c9-4359-a267-722fcab498b2",
    "outputId": "2a4267c1-23d8-486e-b496-20f26a8b1061",
    "tags": []
   },
   "outputs": [
    {
     "data": {
      "text/html": [
       "<div>\n",
       "<style scoped>\n",
       "    .dataframe tbody tr th:only-of-type {\n",
       "        vertical-align: middle;\n",
       "    }\n",
       "\n",
       "    .dataframe tbody tr th {\n",
       "        vertical-align: top;\n",
       "    }\n",
       "\n",
       "    .dataframe thead th {\n",
       "        text-align: right;\n",
       "    }\n",
       "</style>\n",
       "<table border=\"1\" class=\"dataframe\">\n",
       "  <thead>\n",
       "    <tr style=\"text-align: right;\">\n",
       "      <th></th>\n",
       "      <th>rko_start_months</th>\n",
       "      <th>max_end_fact_fin_deals</th>\n",
       "      <th>max_end_plan_non_fin_deals</th>\n",
       "      <th>max_start_fin_deals</th>\n",
       "      <th>max_start_non_fin_deals</th>\n",
       "      <th>min_end_fact_fin_deals</th>\n",
       "      <th>min_end_plan_non_fin_deals</th>\n",
       "      <th>min_start_fin_deals</th>\n",
       "      <th>min_start_non_fin_deals</th>\n",
       "      <th>balance_amt_avg</th>\n",
       "      <th>...</th>\n",
       "      <th>cnt_days_cred_g_oper_3m</th>\n",
       "      <th>sum_deb_h_oper_3m</th>\n",
       "      <th>cnt_deb_h_oper_3m</th>\n",
       "      <th>cnt_days_deb_h_oper_3m</th>\n",
       "      <th>sum_cred_h_oper_3m</th>\n",
       "      <th>cnt_cred_h_oper_3m</th>\n",
       "      <th>cnt_days_cred_h_oper_3m</th>\n",
       "      <th>target_1</th>\n",
       "      <th>target_2</th>\n",
       "      <th>total_target</th>\n",
       "    </tr>\n",
       "  </thead>\n",
       "  <tbody>\n",
       "    <tr>\n",
       "      <th>0</th>\n",
       "      <td>48.871217</td>\n",
       "      <td>NaN</td>\n",
       "      <td>NaN</td>\n",
       "      <td>NaN</td>\n",
       "      <td>NaN</td>\n",
       "      <td>NaN</td>\n",
       "      <td>NaN</td>\n",
       "      <td>NaN</td>\n",
       "      <td>NaN</td>\n",
       "      <td>27046.725915</td>\n",
       "      <td>...</td>\n",
       "      <td>0.064993</td>\n",
       "      <td>33196.020871</td>\n",
       "      <td>1.229488</td>\n",
       "      <td>0.396969</td>\n",
       "      <td>323523.957625</td>\n",
       "      <td>12.420855</td>\n",
       "      <td>9.069157</td>\n",
       "      <td>1</td>\n",
       "      <td>1</td>\n",
       "      <td>1</td>\n",
       "    </tr>\n",
       "    <tr>\n",
       "      <th>1</th>\n",
       "      <td>19.530576</td>\n",
       "      <td>NaN</td>\n",
       "      <td>NaN</td>\n",
       "      <td>NaN</td>\n",
       "      <td>NaN</td>\n",
       "      <td>NaN</td>\n",
       "      <td>NaN</td>\n",
       "      <td>NaN</td>\n",
       "      <td>NaN</td>\n",
       "      <td>54167.143820</td>\n",
       "      <td>...</td>\n",
       "      <td>0.270542</td>\n",
       "      <td>33195.488147</td>\n",
       "      <td>1.229488</td>\n",
       "      <td>-0.137339</td>\n",
       "      <td>145641.572203</td>\n",
       "      <td>2.124925</td>\n",
       "      <td>2.069157</td>\n",
       "      <td>0</td>\n",
       "      <td>0</td>\n",
       "      <td>0</td>\n",
       "    </tr>\n",
       "    <tr>\n",
       "      <th>2</th>\n",
       "      <td>9.706201</td>\n",
       "      <td>NaN</td>\n",
       "      <td>NaN</td>\n",
       "      <td>NaN</td>\n",
       "      <td>NaN</td>\n",
       "      <td>NaN</td>\n",
       "      <td>NaN</td>\n",
       "      <td>NaN</td>\n",
       "      <td>NaN</td>\n",
       "      <td>292152.446430</td>\n",
       "      <td>...</td>\n",
       "      <td>23.431839</td>\n",
       "      <td>265071.236918</td>\n",
       "      <td>4.229488</td>\n",
       "      <td>3.595162</td>\n",
       "      <td>125727.062161</td>\n",
       "      <td>0.999583</td>\n",
       "      <td>1.069157</td>\n",
       "      <td>0</td>\n",
       "      <td>0</td>\n",
       "      <td>0</td>\n",
       "    </tr>\n",
       "    <tr>\n",
       "      <th>3</th>\n",
       "      <td>92.569902</td>\n",
       "      <td>NaN</td>\n",
       "      <td>NaN</td>\n",
       "      <td>NaN</td>\n",
       "      <td>NaN</td>\n",
       "      <td>NaN</td>\n",
       "      <td>NaN</td>\n",
       "      <td>NaN</td>\n",
       "      <td>NaN</td>\n",
       "      <td>142491.809620</td>\n",
       "      <td>...</td>\n",
       "      <td>0.990581</td>\n",
       "      <td>495094.276542</td>\n",
       "      <td>9.229488</td>\n",
       "      <td>8.582252</td>\n",
       "      <td>370392.322955</td>\n",
       "      <td>3.066714</td>\n",
       "      <td>3.069157</td>\n",
       "      <td>0</td>\n",
       "      <td>0</td>\n",
       "      <td>0</td>\n",
       "    </tr>\n",
       "    <tr>\n",
       "      <th>4</th>\n",
       "      <td>26.538856</td>\n",
       "      <td>NaN</td>\n",
       "      <td>NaN</td>\n",
       "      <td>NaN</td>\n",
       "      <td>NaN</td>\n",
       "      <td>NaN</td>\n",
       "      <td>NaN</td>\n",
       "      <td>NaN</td>\n",
       "      <td>NaN</td>\n",
       "      <td>72832.525309</td>\n",
       "      <td>...</td>\n",
       "      <td>0.393927</td>\n",
       "      <td>33196.317418</td>\n",
       "      <td>1.229488</td>\n",
       "      <td>0.276606</td>\n",
       "      <td>125726.775788</td>\n",
       "      <td>1.219935</td>\n",
       "      <td>1.069157</td>\n",
       "      <td>0</td>\n",
       "      <td>0</td>\n",
       "      <td>0</td>\n",
       "    </tr>\n",
       "  </tbody>\n",
       "</table>\n",
       "<p>5 rows × 92 columns</p>\n",
       "</div>"
      ],
      "text/plain": [
       "   rko_start_months  max_end_fact_fin_deals  max_end_plan_non_fin_deals  \\\n",
       "0         48.871217                     NaN                         NaN   \n",
       "1         19.530576                     NaN                         NaN   \n",
       "2          9.706201                     NaN                         NaN   \n",
       "3         92.569902                     NaN                         NaN   \n",
       "4         26.538856                     NaN                         NaN   \n",
       "\n",
       "   max_start_fin_deals  max_start_non_fin_deals  min_end_fact_fin_deals  \\\n",
       "0                  NaN                      NaN                     NaN   \n",
       "1                  NaN                      NaN                     NaN   \n",
       "2                  NaN                      NaN                     NaN   \n",
       "3                  NaN                      NaN                     NaN   \n",
       "4                  NaN                      NaN                     NaN   \n",
       "\n",
       "   min_end_plan_non_fin_deals  min_start_fin_deals  min_start_non_fin_deals  \\\n",
       "0                         NaN                  NaN                      NaN   \n",
       "1                         NaN                  NaN                      NaN   \n",
       "2                         NaN                  NaN                      NaN   \n",
       "3                         NaN                  NaN                      NaN   \n",
       "4                         NaN                  NaN                      NaN   \n",
       "\n",
       "   balance_amt_avg  ...  cnt_days_cred_g_oper_3m  sum_deb_h_oper_3m  \\\n",
       "0     27046.725915  ...                 0.064993       33196.020871   \n",
       "1     54167.143820  ...                 0.270542       33195.488147   \n",
       "2    292152.446430  ...                23.431839      265071.236918   \n",
       "3    142491.809620  ...                 0.990581      495094.276542   \n",
       "4     72832.525309  ...                 0.393927       33196.317418   \n",
       "\n",
       "   cnt_deb_h_oper_3m  cnt_days_deb_h_oper_3m  sum_cred_h_oper_3m  \\\n",
       "0           1.229488                0.396969       323523.957625   \n",
       "1           1.229488               -0.137339       145641.572203   \n",
       "2           4.229488                3.595162       125727.062161   \n",
       "3           9.229488                8.582252       370392.322955   \n",
       "4           1.229488                0.276606       125726.775788   \n",
       "\n",
       "   cnt_cred_h_oper_3m  cnt_days_cred_h_oper_3m  target_1  target_2  \\\n",
       "0           12.420855                 9.069157         1         1   \n",
       "1            2.124925                 2.069157         0         0   \n",
       "2            0.999583                 1.069157         0         0   \n",
       "3            3.066714                 3.069157         0         0   \n",
       "4            1.219935                 1.069157         0         0   \n",
       "\n",
       "   total_target  \n",
       "0             1  \n",
       "1             0  \n",
       "2             0  \n",
       "3             0  \n",
       "4             0  \n",
       "\n",
       "[5 rows x 92 columns]"
      ]
     },
     "execution_count": 41,
     "metadata": {},
     "output_type": "execute_result"
    }
   ],
   "source": [
    "train_df.head()"
   ]
  },
  {
   "cell_type": "markdown",
   "id": "f59f4242",
   "metadata": {},
   "source": [
    "#### *быстренько вспоним что делал и проделаем ещё раз с тестом :(*"
   ]
  },
  {
   "cell_type": "code",
   "execution_count": 42,
   "id": "d6f29715",
   "metadata": {},
   "outputs": [],
   "source": [
    "test_df_2 = test_df.copy()"
   ]
  },
  {
   "cell_type": "code",
   "execution_count": 43,
   "id": "0b1c03c2",
   "metadata": {},
   "outputs": [],
   "source": [
    "columns = ['segment', 'okved']\n",
    "test_df[columns] = test_df[columns].astype(\"float64\")"
   ]
  },
  {
   "cell_type": "code",
   "execution_count": 44,
   "id": "f6177e9b",
   "metadata": {},
   "outputs": [],
   "source": [
    "test_df_2[columns] = test_df_2[columns].astype(\"float64\")"
   ]
  },
  {
   "cell_type": "code",
   "execution_count": 45,
   "id": "d33e6a06",
   "metadata": {},
   "outputs": [
    {
     "data": {
      "text/plain": [
       "['branch_code',\n",
       " 'ogrn_year',\n",
       " 'ogrn_exist_months',\n",
       " 'ogrn_month',\n",
       " 'city_type',\n",
       " 'sum_deb_g_oper_3m',\n",
       " 'city',\n",
       " 'index_city_code',\n",
       " 'channel_code',\n",
       " 'id',\n",
       " 'sum_cred_g_oper_1m']"
      ]
     },
     "execution_count": 45,
     "metadata": {},
     "output_type": "execute_result"
    }
   ],
   "source": [
    "set1 = set(list(test_df.columns))\n",
    "set2 = set(list(train_df.columns))\n",
    "answ = list(set1 - set2)\n",
    "answ"
   ]
  },
  {
   "cell_type": "code",
   "execution_count": 46,
   "id": "c788b198",
   "metadata": {},
   "outputs": [
    {
     "data": {
      "text/plain": [
       "False"
      ]
     },
     "execution_count": 46,
     "metadata": {},
     "output_type": "execute_result"
    }
   ],
   "source": [
    "len(test_df.columns) == len(train_df.columns)"
   ]
  },
  {
   "cell_type": "code",
   "execution_count": 47,
   "id": "44ef2203",
   "metadata": {},
   "outputs": [
    {
     "data": {
      "text/plain": [
       "False"
      ]
     },
     "execution_count": 47,
     "metadata": {},
     "output_type": "execute_result"
    }
   ],
   "source": [
    "test_df = test_df.drop(answ, axis=1)\n",
    "len(test_df.columns) == len(train_df.columns)"
   ]
  },
  {
   "cell_type": "code",
   "execution_count": 48,
   "id": "a746e9fc",
   "metadata": {},
   "outputs": [
    {
     "data": {
      "text/plain": [
       "['target_2', 'target_1', 'total_target']"
      ]
     },
     "execution_count": 48,
     "metadata": {},
     "output_type": "execute_result"
    }
   ],
   "source": [
    "set1 = set(list(test_df.columns))\n",
    "set2 = set(list(train_df.columns))\n",
    "answ = list(set2 - set1)\n",
    "answ"
   ]
  },
  {
   "cell_type": "code",
   "execution_count": 49,
   "id": "670e4716",
   "metadata": {},
   "outputs": [
    {
     "data": {
      "text/plain": [
       "['branch_code',\n",
       " 'ogrn_year',\n",
       " 'ogrn_exist_months',\n",
       " 'ogrn_month',\n",
       " 'city_type',\n",
       " 'sum_deb_g_oper_3m',\n",
       " 'city',\n",
       " 'index_city_code',\n",
       " 'channel_code',\n",
       " 'id',\n",
       " 'sum_cred_g_oper_1m']"
      ]
     },
     "execution_count": 49,
     "metadata": {},
     "output_type": "execute_result"
    }
   ],
   "source": [
    "set1 = set(list(test_df_2.columns))\n",
    "set2 = set(list(train_df_2.columns))\n",
    "answ = list(set1 - set2)\n",
    "answ"
   ]
  },
  {
   "cell_type": "code",
   "execution_count": 50,
   "id": "c831338b",
   "metadata": {},
   "outputs": [
    {
     "data": {
      "text/plain": [
       "True"
      ]
     },
     "execution_count": 50,
     "metadata": {},
     "output_type": "execute_result"
    }
   ],
   "source": [
    "test_df_2 = test_df_2.drop(answ, axis=1)\n",
    "len(test_df_2.columns) == len(test_df_2.columns)"
   ]
  },
  {
   "cell_type": "code",
   "execution_count": 51,
   "id": "6abaed11",
   "metadata": {},
   "outputs": [
    {
     "data": {
      "text/plain": [
       "['target_2', 'target_1', 'total_target']"
      ]
     },
     "execution_count": 51,
     "metadata": {},
     "output_type": "execute_result"
    }
   ],
   "source": [
    "set1 = set(list(test_df_2.columns))\n",
    "set2 = set(list(train_df_2.columns))\n",
    "answ = list(set2 - set1)\n",
    "answ"
   ]
  },
  {
   "cell_type": "markdown",
   "id": "56f1bd82",
   "metadata": {},
   "source": [
    "вот колонки которые остались, также не забудем убрать NaN в тесте так как мы это делали в трейне"
   ]
  },
  {
   "cell_type": "code",
   "execution_count": 52,
   "id": "3696d1da",
   "metadata": {},
   "outputs": [],
   "source": [
    "test_df['segment'] = test_df['segment'].fillna(test_df['segment'].value_counts().index[0])\n",
    "test_df['okved'] = test_df['okved'].fillna(test_df['okved'].value_counts().index[0])"
   ]
  },
  {
   "cell_type": "code",
   "execution_count": 53,
   "id": "eb4c1099",
   "metadata": {},
   "outputs": [],
   "source": [
    "test_df_2['segment'] = test_df_2['segment'].fillna(test_df_2['segment'].value_counts().index[0])\n",
    "test_df_2['okved'] = test_df_2['okved'].fillna(test_df_2['okved'].value_counts().index[0])"
   ]
  },
  {
   "cell_type": "markdown",
   "id": "4ac6924c",
   "metadata": {},
   "source": [
    "теперь вроде все должно быть хорошо"
   ]
  },
  {
   "cell_type": "markdown",
   "id": "c2568ac7",
   "metadata": {},
   "source": [
    "#### *выбросы*"
   ]
  },
  {
   "cell_type": "code",
   "execution_count": 54,
   "id": "a3ab2635",
   "metadata": {},
   "outputs": [
    {
     "data": {
      "text/html": [
       "<div>\n",
       "<style scoped>\n",
       "    .dataframe tbody tr th:only-of-type {\n",
       "        vertical-align: middle;\n",
       "    }\n",
       "\n",
       "    .dataframe tbody tr th {\n",
       "        vertical-align: top;\n",
       "    }\n",
       "\n",
       "    .dataframe thead th {\n",
       "        text-align: right;\n",
       "    }\n",
       "</style>\n",
       "<table border=\"1\" class=\"dataframe\">\n",
       "  <thead>\n",
       "    <tr style=\"text-align: right;\">\n",
       "      <th></th>\n",
       "      <th>rko_start_months</th>\n",
       "      <th>max_end_fact_fin_deals</th>\n",
       "      <th>max_end_plan_non_fin_deals</th>\n",
       "      <th>max_start_fin_deals</th>\n",
       "      <th>max_start_non_fin_deals</th>\n",
       "      <th>min_end_fact_fin_deals</th>\n",
       "      <th>min_end_plan_non_fin_deals</th>\n",
       "      <th>min_start_fin_deals</th>\n",
       "      <th>min_start_non_fin_deals</th>\n",
       "      <th>balance_amt_avg</th>\n",
       "      <th>...</th>\n",
       "      <th>cnt_days_cred_g_oper_3m</th>\n",
       "      <th>sum_deb_h_oper_3m</th>\n",
       "      <th>cnt_deb_h_oper_3m</th>\n",
       "      <th>cnt_days_deb_h_oper_3m</th>\n",
       "      <th>sum_cred_h_oper_3m</th>\n",
       "      <th>cnt_cred_h_oper_3m</th>\n",
       "      <th>cnt_days_cred_h_oper_3m</th>\n",
       "      <th>target_1</th>\n",
       "      <th>target_2</th>\n",
       "      <th>total_target</th>\n",
       "    </tr>\n",
       "  </thead>\n",
       "  <tbody>\n",
       "    <tr>\n",
       "      <th>count</th>\n",
       "      <td>359941.000000</td>\n",
       "      <td>46426.000000</td>\n",
       "      <td>14906.000000</td>\n",
       "      <td>44323.000000</td>\n",
       "      <td>16042.000000</td>\n",
       "      <td>44323.000000</td>\n",
       "      <td>16076.000000</td>\n",
       "      <td>45363.000000</td>\n",
       "      <td>16049.000000</td>\n",
       "      <td>3.589550e+05</td>\n",
       "      <td>...</td>\n",
       "      <td>356290.000000</td>\n",
       "      <td>3.600000e+05</td>\n",
       "      <td>356306.000000</td>\n",
       "      <td>356329.000000</td>\n",
       "      <td>3.600000e+05</td>\n",
       "      <td>356290.000000</td>\n",
       "      <td>356305.000000</td>\n",
       "      <td>360000.000000</td>\n",
       "      <td>360000.000000</td>\n",
       "      <td>360000.000000</td>\n",
       "    </tr>\n",
       "    <tr>\n",
       "      <th>mean</th>\n",
       "      <td>-43.330371</td>\n",
       "      <td>12.510880</td>\n",
       "      <td>28.907052</td>\n",
       "      <td>10.104114</td>\n",
       "      <td>53.331648</td>\n",
       "      <td>17.354317</td>\n",
       "      <td>73.333920</td>\n",
       "      <td>37.316088</td>\n",
       "      <td>59.296785</td>\n",
       "      <td>1.096218e+07</td>\n",
       "      <td>...</td>\n",
       "      <td>2.634460</td>\n",
       "      <td>1.194965e+08</td>\n",
       "      <td>146.280482</td>\n",
       "      <td>13.850062</td>\n",
       "      <td>1.067861e+08</td>\n",
       "      <td>16.527090</td>\n",
       "      <td>10.281307</td>\n",
       "      <td>0.054558</td>\n",
       "      <td>0.026322</td>\n",
       "      <td>0.070319</td>\n",
       "    </tr>\n",
       "    <tr>\n",
       "      <th>std</th>\n",
       "      <td>316.910988</td>\n",
       "      <td>40.720663</td>\n",
       "      <td>14.392164</td>\n",
       "      <td>11.553577</td>\n",
       "      <td>215.035985</td>\n",
       "      <td>7.674263</td>\n",
       "      <td>258.704295</td>\n",
       "      <td>124.130855</td>\n",
       "      <td>229.165356</td>\n",
       "      <td>2.532328e+08</td>\n",
       "      <td>...</td>\n",
       "      <td>7.382824</td>\n",
       "      <td>2.010903e+09</td>\n",
       "      <td>2765.717453</td>\n",
       "      <td>54.047559</td>\n",
       "      <td>1.797326e+09</td>\n",
       "      <td>69.074425</td>\n",
       "      <td>42.481531</td>\n",
       "      <td>0.227116</td>\n",
       "      <td>0.160092</td>\n",
       "      <td>0.255685</td>\n",
       "    </tr>\n",
       "    <tr>\n",
       "      <th>min</th>\n",
       "      <td>-999.000000</td>\n",
       "      <td>-3.001751</td>\n",
       "      <td>5.157962</td>\n",
       "      <td>0.877261</td>\n",
       "      <td>-41.270252</td>\n",
       "      <td>3.149109</td>\n",
       "      <td>-15.141900</td>\n",
       "      <td>-52.437332</td>\n",
       "      <td>-37.705277</td>\n",
       "      <td>-1.892294e+05</td>\n",
       "      <td>...</td>\n",
       "      <td>-1.199655</td>\n",
       "      <td>-3.319375e+05</td>\n",
       "      <td>-12.294875</td>\n",
       "      <td>-11.605176</td>\n",
       "      <td>-1.130776e+06</td>\n",
       "      <td>-0.450401</td>\n",
       "      <td>-11.760726</td>\n",
       "      <td>0.000000</td>\n",
       "      <td>0.000000</td>\n",
       "      <td>0.000000</td>\n",
       "    </tr>\n",
       "    <tr>\n",
       "      <th>25%</th>\n",
       "      <td>11.097540</td>\n",
       "      <td>2.207977</td>\n",
       "      <td>20.125704</td>\n",
       "      <td>3.024168</td>\n",
       "      <td>5.267970</td>\n",
       "      <td>10.485312</td>\n",
       "      <td>13.637288</td>\n",
       "      <td>13.250390</td>\n",
       "      <td>6.967714</td>\n",
       "      <td>3.748834e+04</td>\n",
       "      <td>...</td>\n",
       "      <td>0.182079</td>\n",
       "      <td>3.319606e+04</td>\n",
       "      <td>1.229488</td>\n",
       "      <td>0.456795</td>\n",
       "      <td>1.257279e+05</td>\n",
       "      <td>1.179984</td>\n",
       "      <td>1.069157</td>\n",
       "      <td>0.000000</td>\n",
       "      <td>0.000000</td>\n",
       "      <td>0.000000</td>\n",
       "    </tr>\n",
       "    <tr>\n",
       "      <th>50%</th>\n",
       "      <td>26.792472</td>\n",
       "      <td>3.589064</td>\n",
       "      <td>29.093446</td>\n",
       "      <td>5.353586</td>\n",
       "      <td>11.300228</td>\n",
       "      <td>16.936936</td>\n",
       "      <td>23.485625</td>\n",
       "      <td>22.803188</td>\n",
       "      <td>14.320929</td>\n",
       "      <td>8.277263e+04</td>\n",
       "      <td>...</td>\n",
       "      <td>0.396232</td>\n",
       "      <td>6.628878e+04</td>\n",
       "      <td>4.229488</td>\n",
       "      <td>2.911437</td>\n",
       "      <td>2.695833e+05</td>\n",
       "      <td>3.776749</td>\n",
       "      <td>3.069157</td>\n",
       "      <td>0.000000</td>\n",
       "      <td>0.000000</td>\n",
       "      <td>0.000000</td>\n",
       "    </tr>\n",
       "    <tr>\n",
       "      <th>75%</th>\n",
       "      <td>52.246812</td>\n",
       "      <td>8.649106</td>\n",
       "      <td>37.641833</td>\n",
       "      <td>11.545510</td>\n",
       "      <td>18.138938</td>\n",
       "      <td>25.281005</td>\n",
       "      <td>32.534475</td>\n",
       "      <td>29.319979</td>\n",
       "      <td>21.928940</td>\n",
       "      <td>2.876022e+05</td>\n",
       "      <td>...</td>\n",
       "      <td>1.428508</td>\n",
       "      <td>8.531942e+05</td>\n",
       "      <td>23.229488</td>\n",
       "      <td>13.500762</td>\n",
       "      <td>1.302246e+06</td>\n",
       "      <td>11.368977</td>\n",
       "      <td>10.069157</td>\n",
       "      <td>0.000000</td>\n",
       "      <td>0.000000</td>\n",
       "      <td>0.000000</td>\n",
       "    </tr>\n",
       "    <tr>\n",
       "      <th>max</th>\n",
       "      <td>3352.527366</td>\n",
       "      <td>260.141364</td>\n",
       "      <td>127.448285</td>\n",
       "      <td>102.035342</td>\n",
       "      <td>1133.818639</td>\n",
       "      <td>28.909005</td>\n",
       "      <td>1371.593667</td>\n",
       "      <td>1107.328962</td>\n",
       "      <td>1204.361697</td>\n",
       "      <td>6.214443e+09</td>\n",
       "      <td>...</td>\n",
       "      <td>91.413065</td>\n",
       "      <td>3.653992e+10</td>\n",
       "      <td>67952.294875</td>\n",
       "      <td>830.712232</td>\n",
       "      <td>3.292005e+10</td>\n",
       "      <td>12217.037779</td>\n",
       "      <td>1012.760726</td>\n",
       "      <td>1.000000</td>\n",
       "      <td>1.000000</td>\n",
       "      <td>1.000000</td>\n",
       "    </tr>\n",
       "  </tbody>\n",
       "</table>\n",
       "<p>8 rows × 92 columns</p>\n",
       "</div>"
      ],
      "text/plain": [
       "       rko_start_months  max_end_fact_fin_deals  max_end_plan_non_fin_deals  \\\n",
       "count     359941.000000            46426.000000                14906.000000   \n",
       "mean         -43.330371               12.510880                   28.907052   \n",
       "std          316.910988               40.720663                   14.392164   \n",
       "min         -999.000000               -3.001751                    5.157962   \n",
       "25%           11.097540                2.207977                   20.125704   \n",
       "50%           26.792472                3.589064                   29.093446   \n",
       "75%           52.246812                8.649106                   37.641833   \n",
       "max         3352.527366              260.141364                  127.448285   \n",
       "\n",
       "       max_start_fin_deals  max_start_non_fin_deals  min_end_fact_fin_deals  \\\n",
       "count         44323.000000             16042.000000            44323.000000   \n",
       "mean             10.104114                53.331648               17.354317   \n",
       "std              11.553577               215.035985                7.674263   \n",
       "min               0.877261               -41.270252                3.149109   \n",
       "25%               3.024168                 5.267970               10.485312   \n",
       "50%               5.353586                11.300228               16.936936   \n",
       "75%              11.545510                18.138938               25.281005   \n",
       "max             102.035342              1133.818639               28.909005   \n",
       "\n",
       "       min_end_plan_non_fin_deals  min_start_fin_deals  \\\n",
       "count                16076.000000         45363.000000   \n",
       "mean                    73.333920            37.316088   \n",
       "std                    258.704295           124.130855   \n",
       "min                    -15.141900           -52.437332   \n",
       "25%                     13.637288            13.250390   \n",
       "50%                     23.485625            22.803188   \n",
       "75%                     32.534475            29.319979   \n",
       "max                   1371.593667          1107.328962   \n",
       "\n",
       "       min_start_non_fin_deals  balance_amt_avg  ...  cnt_days_cred_g_oper_3m  \\\n",
       "count             16049.000000     3.589550e+05  ...            356290.000000   \n",
       "mean                 59.296785     1.096218e+07  ...                 2.634460   \n",
       "std                 229.165356     2.532328e+08  ...                 7.382824   \n",
       "min                 -37.705277    -1.892294e+05  ...                -1.199655   \n",
       "25%                   6.967714     3.748834e+04  ...                 0.182079   \n",
       "50%                  14.320929     8.277263e+04  ...                 0.396232   \n",
       "75%                  21.928940     2.876022e+05  ...                 1.428508   \n",
       "max                1204.361697     6.214443e+09  ...                91.413065   \n",
       "\n",
       "       sum_deb_h_oper_3m  cnt_deb_h_oper_3m  cnt_days_deb_h_oper_3m  \\\n",
       "count       3.600000e+05      356306.000000           356329.000000   \n",
       "mean        1.194965e+08         146.280482               13.850062   \n",
       "std         2.010903e+09        2765.717453               54.047559   \n",
       "min        -3.319375e+05         -12.294875              -11.605176   \n",
       "25%         3.319606e+04           1.229488                0.456795   \n",
       "50%         6.628878e+04           4.229488                2.911437   \n",
       "75%         8.531942e+05          23.229488               13.500762   \n",
       "max         3.653992e+10       67952.294875              830.712232   \n",
       "\n",
       "       sum_cred_h_oper_3m  cnt_cred_h_oper_3m  cnt_days_cred_h_oper_3m  \\\n",
       "count        3.600000e+05       356290.000000            356305.000000   \n",
       "mean         1.067861e+08           16.527090                10.281307   \n",
       "std          1.797326e+09           69.074425                42.481531   \n",
       "min         -1.130776e+06           -0.450401               -11.760726   \n",
       "25%          1.257279e+05            1.179984                 1.069157   \n",
       "50%          2.695833e+05            3.776749                 3.069157   \n",
       "75%          1.302246e+06           11.368977                10.069157   \n",
       "max          3.292005e+10        12217.037779              1012.760726   \n",
       "\n",
       "            target_1       target_2   total_target  \n",
       "count  360000.000000  360000.000000  360000.000000  \n",
       "mean        0.054558       0.026322       0.070319  \n",
       "std         0.227116       0.160092       0.255685  \n",
       "min         0.000000       0.000000       0.000000  \n",
       "25%         0.000000       0.000000       0.000000  \n",
       "50%         0.000000       0.000000       0.000000  \n",
       "75%         0.000000       0.000000       0.000000  \n",
       "max         1.000000       1.000000       1.000000  \n",
       "\n",
       "[8 rows x 92 columns]"
      ]
     },
     "execution_count": 54,
     "metadata": {},
     "output_type": "execute_result"
    }
   ],
   "source": [
    "train_df.describe()"
   ]
  },
  {
   "cell_type": "code",
   "execution_count": 55,
   "id": "1113d81d",
   "metadata": {},
   "outputs": [],
   "source": [
    "def drop_feature_outliers(df, feature, eps):\n",
    "    result = df.copy()\n",
    "    lower_bound = df[feature].quantile(q=eps)\n",
    "    upper_bound = df[feature].quantile(q=1-eps)\n",
    "    index = result.loc[(df[feature] < lower_bound) | (df[feature] > upper_bound)].index\n",
    "    result.drop(index=index, inplace=True)\n",
    "    return result "
   ]
  },
  {
   "cell_type": "code",
   "execution_count": 56,
   "id": "b7bbd25b",
   "metadata": {},
   "outputs": [],
   "source": [
    "def for_each_feature_drop_outliers(df, eps=0.001):\n",
    "    current_df = df.copy()\n",
    "    for dtype, feature in zip(df.dtypes, df.columns):\n",
    "        if dtype == 'float64' or dtype == 'int64':  \n",
    "            lower_bound = df[feature].quantile(q=eps)\n",
    "            upper_bound = df[feature].quantile(q=1-eps)\n",
    "            index = current_df.loc[(df[feature] < lower_bound) | (df[feature] > upper_bound)].index\n",
    "            current_df.drop(index=index, inplace=True)\n",
    "    return current_df"
   ]
  },
  {
   "cell_type": "code",
   "execution_count": 57,
   "id": "7c39bce0",
   "metadata": {},
   "outputs": [],
   "source": [
    "#train_df = for_each_feature_drop_outliers(train_df)"
   ]
  },
  {
   "cell_type": "code",
   "execution_count": 58,
   "id": "27dde753",
   "metadata": {},
   "outputs": [],
   "source": [
    "#train_df.shape"
   ]
  },
  {
   "cell_type": "markdown",
   "id": "f0a7df57",
   "metadata": {},
   "source": [
    "#### *после тестов на всех фичах, оказалось, что самое эффективное отбрасывание выбросов в столбике cnt_a_oper_1m с eps=0.15*"
   ]
  },
  {
   "cell_type": "code",
   "execution_count": 59,
   "id": "32cff403",
   "metadata": {},
   "outputs": [],
   "source": [
    "#train_df = drop_feature_outliers(train_df, 'cnt_a_oper_1m', 0.05)"
   ]
  },
  {
   "cell_type": "code",
   "execution_count": 60,
   "id": "74d93550",
   "metadata": {},
   "outputs": [],
   "source": [
    "#train_df.shape"
   ]
  },
  {
   "cell_type": "markdown",
   "id": "f3a2e71d",
   "metadata": {},
   "source": [
    "#### *вроде ничего не забыли идем дальше*"
   ]
  },
  {
   "cell_type": "markdown",
   "id": "848a5194-66b9-4a1d-a5af-b97b62054125",
   "metadata": {
    "id": "848a5194-66b9-4a1d-a5af-b97b62054125"
   },
   "source": [
    "## Разбиение на train, validation"
   ]
  },
  {
   "cell_type": "code",
   "execution_count": 62,
   "id": "1dcd6503",
   "metadata": {},
   "outputs": [
    {
     "data": {
      "text/plain": [
       "['target_2', 'target_1', 'total_target']"
      ]
     },
     "execution_count": 62,
     "metadata": {},
     "output_type": "execute_result"
    }
   ],
   "source": [
    "answ"
   ]
  },
  {
   "cell_type": "code",
   "execution_count": 63,
   "id": "a1a2545d",
   "metadata": {},
   "outputs": [
    {
     "data": {
      "text/html": [
       "<div>\n",
       "<style scoped>\n",
       "    .dataframe tbody tr th:only-of-type {\n",
       "        vertical-align: middle;\n",
       "    }\n",
       "\n",
       "    .dataframe tbody tr th {\n",
       "        vertical-align: top;\n",
       "    }\n",
       "\n",
       "    .dataframe thead th {\n",
       "        text-align: right;\n",
       "    }\n",
       "</style>\n",
       "<table border=\"1\" class=\"dataframe\">\n",
       "  <thead>\n",
       "    <tr style=\"text-align: right;\">\n",
       "      <th></th>\n",
       "      <th>rko_start_months</th>\n",
       "      <th>max_end_fact_fin_deals</th>\n",
       "      <th>max_end_plan_non_fin_deals</th>\n",
       "      <th>max_start_fin_deals</th>\n",
       "      <th>max_start_non_fin_deals</th>\n",
       "      <th>min_end_fact_fin_deals</th>\n",
       "      <th>min_end_plan_non_fin_deals</th>\n",
       "      <th>min_start_fin_deals</th>\n",
       "      <th>min_start_non_fin_deals</th>\n",
       "      <th>balance_amt_avg</th>\n",
       "      <th>...</th>\n",
       "      <th>cnt_days_cred_g_oper_3m</th>\n",
       "      <th>sum_deb_h_oper_3m</th>\n",
       "      <th>cnt_deb_h_oper_3m</th>\n",
       "      <th>cnt_days_deb_h_oper_3m</th>\n",
       "      <th>sum_cred_h_oper_3m</th>\n",
       "      <th>cnt_cred_h_oper_3m</th>\n",
       "      <th>cnt_days_cred_h_oper_3m</th>\n",
       "      <th>target_1</th>\n",
       "      <th>target_2</th>\n",
       "      <th>total_target</th>\n",
       "    </tr>\n",
       "  </thead>\n",
       "  <tbody>\n",
       "    <tr>\n",
       "      <th>0</th>\n",
       "      <td>48.871217</td>\n",
       "      <td>NaN</td>\n",
       "      <td>NaN</td>\n",
       "      <td>NaN</td>\n",
       "      <td>NaN</td>\n",
       "      <td>NaN</td>\n",
       "      <td>NaN</td>\n",
       "      <td>NaN</td>\n",
       "      <td>NaN</td>\n",
       "      <td>27046.725915</td>\n",
       "      <td>...</td>\n",
       "      <td>0.064993</td>\n",
       "      <td>33196.020871</td>\n",
       "      <td>1.229488</td>\n",
       "      <td>0.396969</td>\n",
       "      <td>323523.957625</td>\n",
       "      <td>12.420855</td>\n",
       "      <td>9.069157</td>\n",
       "      <td>1</td>\n",
       "      <td>1</td>\n",
       "      <td>1</td>\n",
       "    </tr>\n",
       "    <tr>\n",
       "      <th>1</th>\n",
       "      <td>19.530576</td>\n",
       "      <td>NaN</td>\n",
       "      <td>NaN</td>\n",
       "      <td>NaN</td>\n",
       "      <td>NaN</td>\n",
       "      <td>NaN</td>\n",
       "      <td>NaN</td>\n",
       "      <td>NaN</td>\n",
       "      <td>NaN</td>\n",
       "      <td>54167.143820</td>\n",
       "      <td>...</td>\n",
       "      <td>0.270542</td>\n",
       "      <td>33195.488147</td>\n",
       "      <td>1.229488</td>\n",
       "      <td>-0.137339</td>\n",
       "      <td>145641.572203</td>\n",
       "      <td>2.124925</td>\n",
       "      <td>2.069157</td>\n",
       "      <td>0</td>\n",
       "      <td>0</td>\n",
       "      <td>0</td>\n",
       "    </tr>\n",
       "    <tr>\n",
       "      <th>2</th>\n",
       "      <td>9.706201</td>\n",
       "      <td>NaN</td>\n",
       "      <td>NaN</td>\n",
       "      <td>NaN</td>\n",
       "      <td>NaN</td>\n",
       "      <td>NaN</td>\n",
       "      <td>NaN</td>\n",
       "      <td>NaN</td>\n",
       "      <td>NaN</td>\n",
       "      <td>292152.446430</td>\n",
       "      <td>...</td>\n",
       "      <td>23.431839</td>\n",
       "      <td>265071.236918</td>\n",
       "      <td>4.229488</td>\n",
       "      <td>3.595162</td>\n",
       "      <td>125727.062161</td>\n",
       "      <td>0.999583</td>\n",
       "      <td>1.069157</td>\n",
       "      <td>0</td>\n",
       "      <td>0</td>\n",
       "      <td>0</td>\n",
       "    </tr>\n",
       "    <tr>\n",
       "      <th>3</th>\n",
       "      <td>92.569902</td>\n",
       "      <td>NaN</td>\n",
       "      <td>NaN</td>\n",
       "      <td>NaN</td>\n",
       "      <td>NaN</td>\n",
       "      <td>NaN</td>\n",
       "      <td>NaN</td>\n",
       "      <td>NaN</td>\n",
       "      <td>NaN</td>\n",
       "      <td>142491.809620</td>\n",
       "      <td>...</td>\n",
       "      <td>0.990581</td>\n",
       "      <td>495094.276542</td>\n",
       "      <td>9.229488</td>\n",
       "      <td>8.582252</td>\n",
       "      <td>370392.322955</td>\n",
       "      <td>3.066714</td>\n",
       "      <td>3.069157</td>\n",
       "      <td>0</td>\n",
       "      <td>0</td>\n",
       "      <td>0</td>\n",
       "    </tr>\n",
       "    <tr>\n",
       "      <th>4</th>\n",
       "      <td>26.538856</td>\n",
       "      <td>NaN</td>\n",
       "      <td>NaN</td>\n",
       "      <td>NaN</td>\n",
       "      <td>NaN</td>\n",
       "      <td>NaN</td>\n",
       "      <td>NaN</td>\n",
       "      <td>NaN</td>\n",
       "      <td>NaN</td>\n",
       "      <td>72832.525309</td>\n",
       "      <td>...</td>\n",
       "      <td>0.393927</td>\n",
       "      <td>33196.317418</td>\n",
       "      <td>1.229488</td>\n",
       "      <td>0.276606</td>\n",
       "      <td>125726.775788</td>\n",
       "      <td>1.219935</td>\n",
       "      <td>1.069157</td>\n",
       "      <td>0</td>\n",
       "      <td>0</td>\n",
       "      <td>0</td>\n",
       "    </tr>\n",
       "  </tbody>\n",
       "</table>\n",
       "<p>5 rows × 92 columns</p>\n",
       "</div>"
      ],
      "text/plain": [
       "   rko_start_months  max_end_fact_fin_deals  max_end_plan_non_fin_deals  \\\n",
       "0         48.871217                     NaN                         NaN   \n",
       "1         19.530576                     NaN                         NaN   \n",
       "2          9.706201                     NaN                         NaN   \n",
       "3         92.569902                     NaN                         NaN   \n",
       "4         26.538856                     NaN                         NaN   \n",
       "\n",
       "   max_start_fin_deals  max_start_non_fin_deals  min_end_fact_fin_deals  \\\n",
       "0                  NaN                      NaN                     NaN   \n",
       "1                  NaN                      NaN                     NaN   \n",
       "2                  NaN                      NaN                     NaN   \n",
       "3                  NaN                      NaN                     NaN   \n",
       "4                  NaN                      NaN                     NaN   \n",
       "\n",
       "   min_end_plan_non_fin_deals  min_start_fin_deals  min_start_non_fin_deals  \\\n",
       "0                         NaN                  NaN                      NaN   \n",
       "1                         NaN                  NaN                      NaN   \n",
       "2                         NaN                  NaN                      NaN   \n",
       "3                         NaN                  NaN                      NaN   \n",
       "4                         NaN                  NaN                      NaN   \n",
       "\n",
       "   balance_amt_avg  ...  cnt_days_cred_g_oper_3m  sum_deb_h_oper_3m  \\\n",
       "0     27046.725915  ...                 0.064993       33196.020871   \n",
       "1     54167.143820  ...                 0.270542       33195.488147   \n",
       "2    292152.446430  ...                23.431839      265071.236918   \n",
       "3    142491.809620  ...                 0.990581      495094.276542   \n",
       "4     72832.525309  ...                 0.393927       33196.317418   \n",
       "\n",
       "   cnt_deb_h_oper_3m  cnt_days_deb_h_oper_3m  sum_cred_h_oper_3m  \\\n",
       "0           1.229488                0.396969       323523.957625   \n",
       "1           1.229488               -0.137339       145641.572203   \n",
       "2           4.229488                3.595162       125727.062161   \n",
       "3           9.229488                8.582252       370392.322955   \n",
       "4           1.229488                0.276606       125726.775788   \n",
       "\n",
       "   cnt_cred_h_oper_3m  cnt_days_cred_h_oper_3m  target_1  target_2  \\\n",
       "0           12.420855                 9.069157         1         1   \n",
       "1            2.124925                 2.069157         0         0   \n",
       "2            0.999583                 1.069157         0         0   \n",
       "3            3.066714                 3.069157         0         0   \n",
       "4            1.219935                 1.069157         0         0   \n",
       "\n",
       "   total_target  \n",
       "0             1  \n",
       "1             0  \n",
       "2             0  \n",
       "3             0  \n",
       "4             0  \n",
       "\n",
       "[5 rows x 92 columns]"
      ]
     },
     "execution_count": 63,
     "metadata": {},
     "output_type": "execute_result"
    }
   ],
   "source": [
    "train_df.head()"
   ]
  },
  {
   "cell_type": "code",
   "execution_count": 64,
   "id": "8612ad97",
   "metadata": {},
   "outputs": [
    {
     "data": {
      "text/plain": [
       "92"
      ]
     },
     "execution_count": 64,
     "metadata": {},
     "output_type": "execute_result"
    }
   ],
   "source": [
    "len(train_df_2.columns)"
   ]
  },
  {
   "cell_type": "code",
   "execution_count": 65,
   "id": "6328c307",
   "metadata": {},
   "outputs": [
    {
     "data": {
      "text/plain": [
       "92"
      ]
     },
     "execution_count": 65,
     "metadata": {},
     "output_type": "execute_result"
    }
   ],
   "source": [
    "len(train_df.columns)"
   ]
  },
  {
   "cell_type": "markdown",
   "id": "69da8d2a",
   "metadata": {},
   "source": [
    "# делаем:"
   ]
  },
  {
   "cell_type": "code",
   "execution_count": 66,
   "id": "b4055e72",
   "metadata": {},
   "outputs": [],
   "source": [
    "X_1 = train_df.drop(answ, axis=1)\n",
    "y_1 = train_df.target_1\n",
    "\n",
    "X_2 = train_df_2.drop(answ, axis=1)\n",
    "y_2 = train_df_2.target_2"
   ]
  },
  {
   "cell_type": "markdown",
   "id": "6b612a57",
   "metadata": {},
   "source": [
    "разбиение на выборки"
   ]
  },
  {
   "cell_type": "code",
   "execution_count": 67,
   "id": "bd17c1d8",
   "metadata": {},
   "outputs": [],
   "source": [
    "x_train_1, x_val_1, y_train_1, y_val_1 = train_test_split(X_1, y_1,\n",
    "                                                          test_size=0.2,\n",
    "                                                          random_state=42)\n",
    "\n",
    "x_train_2, x_val_2, y_train_2, y_val_2 = train_test_split(X_2, y_2,\n",
    "                                                          test_size=0.2,\n",
    "                                                          random_state=42)"
   ]
  },
  {
   "cell_type": "code",
   "execution_count": 68,
   "id": "b0d20f88",
   "metadata": {},
   "outputs": [
    {
     "data": {
      "text/html": [
       "<div>\n",
       "<style scoped>\n",
       "    .dataframe tbody tr th:only-of-type {\n",
       "        vertical-align: middle;\n",
       "    }\n",
       "\n",
       "    .dataframe tbody tr th {\n",
       "        vertical-align: top;\n",
       "    }\n",
       "\n",
       "    .dataframe thead th {\n",
       "        text-align: right;\n",
       "    }\n",
       "</style>\n",
       "<table border=\"1\" class=\"dataframe\">\n",
       "  <thead>\n",
       "    <tr style=\"text-align: right;\">\n",
       "      <th></th>\n",
       "      <th>rko_start_months</th>\n",
       "      <th>max_end_fact_fin_deals</th>\n",
       "      <th>max_end_plan_non_fin_deals</th>\n",
       "      <th>max_start_fin_deals</th>\n",
       "      <th>max_start_non_fin_deals</th>\n",
       "      <th>min_end_fact_fin_deals</th>\n",
       "      <th>min_end_plan_non_fin_deals</th>\n",
       "      <th>min_start_fin_deals</th>\n",
       "      <th>min_start_non_fin_deals</th>\n",
       "      <th>balance_amt_avg</th>\n",
       "      <th>...</th>\n",
       "      <th>cnt_days_deb_g_oper_3m</th>\n",
       "      <th>sum_cred_g_oper_3m</th>\n",
       "      <th>cnt_cred_g_oper_3m</th>\n",
       "      <th>cnt_days_cred_g_oper_3m</th>\n",
       "      <th>sum_deb_h_oper_3m</th>\n",
       "      <th>cnt_deb_h_oper_3m</th>\n",
       "      <th>cnt_days_deb_h_oper_3m</th>\n",
       "      <th>sum_cred_h_oper_3m</th>\n",
       "      <th>cnt_cred_h_oper_3m</th>\n",
       "      <th>cnt_days_cred_h_oper_3m</th>\n",
       "    </tr>\n",
       "  </thead>\n",
       "  <tbody>\n",
       "    <tr>\n",
       "      <th>196938</th>\n",
       "      <td>10.628817</td>\n",
       "      <td>NaN</td>\n",
       "      <td>NaN</td>\n",
       "      <td>NaN</td>\n",
       "      <td>NaN</td>\n",
       "      <td>NaN</td>\n",
       "      <td>NaN</td>\n",
       "      <td>NaN</td>\n",
       "      <td>NaN</td>\n",
       "      <td>3.980542e+04</td>\n",
       "      <td>...</td>\n",
       "      <td>4.588064</td>\n",
       "      <td>11.824543</td>\n",
       "      <td>-0.048922</td>\n",
       "      <td>0.011122</td>\n",
       "      <td>1.849609e+05</td>\n",
       "      <td>19.229488</td>\n",
       "      <td>12.288312</td>\n",
       "      <td>7.844000e+05</td>\n",
       "      <td>2.901821</td>\n",
       "      <td>3.069157</td>\n",
       "    </tr>\n",
       "    <tr>\n",
       "      <th>269252</th>\n",
       "      <td>65.671274</td>\n",
       "      <td>NaN</td>\n",
       "      <td>NaN</td>\n",
       "      <td>NaN</td>\n",
       "      <td>NaN</td>\n",
       "      <td>NaN</td>\n",
       "      <td>NaN</td>\n",
       "      <td>NaN</td>\n",
       "      <td>NaN</td>\n",
       "      <td>3.351912e+04</td>\n",
       "      <td>...</td>\n",
       "      <td>0.567272</td>\n",
       "      <td>11.872650</td>\n",
       "      <td>-0.139315</td>\n",
       "      <td>0.691780</td>\n",
       "      <td>3.319586e+04</td>\n",
       "      <td>1.229488</td>\n",
       "      <td>0.474281</td>\n",
       "      <td>1.381428e+05</td>\n",
       "      <td>1.793852</td>\n",
       "      <td>2.069157</td>\n",
       "    </tr>\n",
       "    <tr>\n",
       "      <th>94312</th>\n",
       "      <td>53.499087</td>\n",
       "      <td>NaN</td>\n",
       "      <td>NaN</td>\n",
       "      <td>NaN</td>\n",
       "      <td>NaN</td>\n",
       "      <td>NaN</td>\n",
       "      <td>NaN</td>\n",
       "      <td>NaN</td>\n",
       "      <td>NaN</td>\n",
       "      <td>5.398087e+04</td>\n",
       "      <td>...</td>\n",
       "      <td>2.350791</td>\n",
       "      <td>11.970558</td>\n",
       "      <td>0.136072</td>\n",
       "      <td>0.211950</td>\n",
       "      <td>1.014844e+06</td>\n",
       "      <td>27.229488</td>\n",
       "      <td>11.307975</td>\n",
       "      <td>4.988521e+05</td>\n",
       "      <td>6.261020</td>\n",
       "      <td>6.069157</td>\n",
       "    </tr>\n",
       "    <tr>\n",
       "      <th>11648</th>\n",
       "      <td>158.813763</td>\n",
       "      <td>13.580711</td>\n",
       "      <td>16.577317</td>\n",
       "      <td>13.181279</td>\n",
       "      <td>-41.270252</td>\n",
       "      <td>15.99021</td>\n",
       "      <td>14.258553</td>\n",
       "      <td>17.015131</td>\n",
       "      <td>28.058946</td>\n",
       "      <td>2.027630e+06</td>\n",
       "      <td>...</td>\n",
       "      <td>6.614659</td>\n",
       "      <td>520005.999208</td>\n",
       "      <td>0.948603</td>\n",
       "      <td>1.110070</td>\n",
       "      <td>5.257269e+07</td>\n",
       "      <td>228.229488</td>\n",
       "      <td>-11.605176</td>\n",
       "      <td>4.783098e+07</td>\n",
       "      <td>146.284951</td>\n",
       "      <td>59.069157</td>\n",
       "    </tr>\n",
       "    <tr>\n",
       "      <th>103723</th>\n",
       "      <td>34.783585</td>\n",
       "      <td>NaN</td>\n",
       "      <td>NaN</td>\n",
       "      <td>NaN</td>\n",
       "      <td>NaN</td>\n",
       "      <td>NaN</td>\n",
       "      <td>NaN</td>\n",
       "      <td>NaN</td>\n",
       "      <td>NaN</td>\n",
       "      <td>7.027715e+04</td>\n",
       "      <td>...</td>\n",
       "      <td>1.638815</td>\n",
       "      <td>11.912012</td>\n",
       "      <td>0.317149</td>\n",
       "      <td>0.397459</td>\n",
       "      <td>3.319628e+04</td>\n",
       "      <td>1.229488</td>\n",
       "      <td>0.159454</td>\n",
       "      <td>1.223098e+06</td>\n",
       "      <td>2.015498</td>\n",
       "      <td>2.069157</td>\n",
       "    </tr>\n",
       "  </tbody>\n",
       "</table>\n",
       "<p>5 rows × 89 columns</p>\n",
       "</div>"
      ],
      "text/plain": [
       "        rko_start_months  max_end_fact_fin_deals  max_end_plan_non_fin_deals  \\\n",
       "196938         10.628817                     NaN                         NaN   \n",
       "269252         65.671274                     NaN                         NaN   \n",
       "94312          53.499087                     NaN                         NaN   \n",
       "11648         158.813763               13.580711                   16.577317   \n",
       "103723         34.783585                     NaN                         NaN   \n",
       "\n",
       "        max_start_fin_deals  max_start_non_fin_deals  min_end_fact_fin_deals  \\\n",
       "196938                  NaN                      NaN                     NaN   \n",
       "269252                  NaN                      NaN                     NaN   \n",
       "94312                   NaN                      NaN                     NaN   \n",
       "11648             13.181279               -41.270252                15.99021   \n",
       "103723                  NaN                      NaN                     NaN   \n",
       "\n",
       "        min_end_plan_non_fin_deals  min_start_fin_deals  \\\n",
       "196938                         NaN                  NaN   \n",
       "269252                         NaN                  NaN   \n",
       "94312                          NaN                  NaN   \n",
       "11648                    14.258553            17.015131   \n",
       "103723                         NaN                  NaN   \n",
       "\n",
       "        min_start_non_fin_deals  balance_amt_avg  ...  cnt_days_deb_g_oper_3m  \\\n",
       "196938                      NaN     3.980542e+04  ...                4.588064   \n",
       "269252                      NaN     3.351912e+04  ...                0.567272   \n",
       "94312                       NaN     5.398087e+04  ...                2.350791   \n",
       "11648                 28.058946     2.027630e+06  ...                6.614659   \n",
       "103723                      NaN     7.027715e+04  ...                1.638815   \n",
       "\n",
       "        sum_cred_g_oper_3m  cnt_cred_g_oper_3m  cnt_days_cred_g_oper_3m  \\\n",
       "196938           11.824543           -0.048922                 0.011122   \n",
       "269252           11.872650           -0.139315                 0.691780   \n",
       "94312            11.970558            0.136072                 0.211950   \n",
       "11648        520005.999208            0.948603                 1.110070   \n",
       "103723           11.912012            0.317149                 0.397459   \n",
       "\n",
       "        sum_deb_h_oper_3m  cnt_deb_h_oper_3m  cnt_days_deb_h_oper_3m  \\\n",
       "196938       1.849609e+05          19.229488               12.288312   \n",
       "269252       3.319586e+04           1.229488                0.474281   \n",
       "94312        1.014844e+06          27.229488               11.307975   \n",
       "11648        5.257269e+07         228.229488              -11.605176   \n",
       "103723       3.319628e+04           1.229488                0.159454   \n",
       "\n",
       "        sum_cred_h_oper_3m  cnt_cred_h_oper_3m  cnt_days_cred_h_oper_3m  \n",
       "196938        7.844000e+05            2.901821                 3.069157  \n",
       "269252        1.381428e+05            1.793852                 2.069157  \n",
       "94312         4.988521e+05            6.261020                 6.069157  \n",
       "11648         4.783098e+07          146.284951                59.069157  \n",
       "103723        1.223098e+06            2.015498                 2.069157  \n",
       "\n",
       "[5 rows x 89 columns]"
      ]
     },
     "execution_count": 68,
     "metadata": {},
     "output_type": "execute_result"
    }
   ],
   "source": [
    "x_train_2.head()"
   ]
  },
  {
   "cell_type": "code",
   "execution_count": 69,
   "id": "c6c807be",
   "metadata": {},
   "outputs": [],
   "source": [
    "cat1 = CatBoostClassifier(learning_rate=0.1, \n",
    "                          random_state=42, \n",
    "                          metric_period=200)\n",
    "\n",
    "cat2 = CatBoostClassifier(learning_rate=0.05,\n",
    "                          iterations=3000,\n",
    "                          random_state=42, \n",
    "                          metric_period=200)"
   ]
  },
  {
   "cell_type": "code",
   "execution_count": 70,
   "id": "ddeb4145",
   "metadata": {},
   "outputs": [
    {
     "data": {
      "text/html": [
       "<style>#sk-container-id-1 {color: black;}#sk-container-id-1 pre{padding: 0;}#sk-container-id-1 div.sk-toggleable {background-color: white;}#sk-container-id-1 label.sk-toggleable__label {cursor: pointer;display: block;width: 100%;margin-bottom: 0;padding: 0.3em;box-sizing: border-box;text-align: center;}#sk-container-id-1 label.sk-toggleable__label-arrow:before {content: \"▸\";float: left;margin-right: 0.25em;color: #696969;}#sk-container-id-1 label.sk-toggleable__label-arrow:hover:before {color: black;}#sk-container-id-1 div.sk-estimator:hover label.sk-toggleable__label-arrow:before {color: black;}#sk-container-id-1 div.sk-toggleable__content {max-height: 0;max-width: 0;overflow: hidden;text-align: left;background-color: #f0f8ff;}#sk-container-id-1 div.sk-toggleable__content pre {margin: 0.2em;color: black;border-radius: 0.25em;background-color: #f0f8ff;}#sk-container-id-1 input.sk-toggleable__control:checked~div.sk-toggleable__content {max-height: 200px;max-width: 100%;overflow: auto;}#sk-container-id-1 input.sk-toggleable__control:checked~label.sk-toggleable__label-arrow:before {content: \"▾\";}#sk-container-id-1 div.sk-estimator input.sk-toggleable__control:checked~label.sk-toggleable__label {background-color: #d4ebff;}#sk-container-id-1 div.sk-label input.sk-toggleable__control:checked~label.sk-toggleable__label {background-color: #d4ebff;}#sk-container-id-1 input.sk-hidden--visually {border: 0;clip: rect(1px 1px 1px 1px);clip: rect(1px, 1px, 1px, 1px);height: 1px;margin: -1px;overflow: hidden;padding: 0;position: absolute;width: 1px;}#sk-container-id-1 div.sk-estimator {font-family: monospace;background-color: #f0f8ff;border: 1px dotted black;border-radius: 0.25em;box-sizing: border-box;margin-bottom: 0.5em;}#sk-container-id-1 div.sk-estimator:hover {background-color: #d4ebff;}#sk-container-id-1 div.sk-parallel-item::after {content: \"\";width: 100%;border-bottom: 1px solid gray;flex-grow: 1;}#sk-container-id-1 div.sk-label:hover label.sk-toggleable__label {background-color: #d4ebff;}#sk-container-id-1 div.sk-serial::before {content: \"\";position: absolute;border-left: 1px solid gray;box-sizing: border-box;top: 0;bottom: 0;left: 50%;z-index: 0;}#sk-container-id-1 div.sk-serial {display: flex;flex-direction: column;align-items: center;background-color: white;padding-right: 0.2em;padding-left: 0.2em;position: relative;}#sk-container-id-1 div.sk-item {position: relative;z-index: 1;}#sk-container-id-1 div.sk-parallel {display: flex;align-items: stretch;justify-content: center;background-color: white;position: relative;}#sk-container-id-1 div.sk-item::before, #sk-container-id-1 div.sk-parallel-item::before {content: \"\";position: absolute;border-left: 1px solid gray;box-sizing: border-box;top: 0;bottom: 0;left: 50%;z-index: -1;}#sk-container-id-1 div.sk-parallel-item {display: flex;flex-direction: column;z-index: 1;position: relative;background-color: white;}#sk-container-id-1 div.sk-parallel-item:first-child::after {align-self: flex-end;width: 50%;}#sk-container-id-1 div.sk-parallel-item:last-child::after {align-self: flex-start;width: 50%;}#sk-container-id-1 div.sk-parallel-item:only-child::after {width: 0;}#sk-container-id-1 div.sk-dashed-wrapped {border: 1px dashed gray;margin: 0 0.4em 0.5em 0.4em;box-sizing: border-box;padding-bottom: 0.4em;background-color: white;}#sk-container-id-1 div.sk-label label {font-family: monospace;font-weight: bold;display: inline-block;line-height: 1.2em;}#sk-container-id-1 div.sk-label-container {text-align: center;}#sk-container-id-1 div.sk-container {/* jupyter's `normalize.less` sets `[hidden] { display: none; }` but bootstrap.min.css set `[hidden] { display: none !important; }` so we also need the `!important` here to be able to override the default hidden behavior on the sphinx rendered scikit-learn.org. See: https://github.com/scikit-learn/scikit-learn/issues/21755 */display: inline-block !important;position: relative;}#sk-container-id-1 div.sk-text-repr-fallback {display: none;}</style><div id=\"sk-container-id-1\" class=\"sk-top-container\"><div class=\"sk-text-repr-fallback\"><pre>LGBMClassifier(random_state=42)</pre><b>In a Jupyter environment, please rerun this cell to show the HTML representation or trust the notebook. <br />On GitHub, the HTML representation is unable to render, please try loading this page with nbviewer.org.</b></div><div class=\"sk-container\" hidden><div class=\"sk-item\"><div class=\"sk-estimator sk-toggleable\"><input class=\"sk-toggleable__control sk-hidden--visually\" id=\"sk-estimator-id-1\" type=\"checkbox\" checked><label for=\"sk-estimator-id-1\" class=\"sk-toggleable__label sk-toggleable__label-arrow\">LGBMClassifier</label><div class=\"sk-toggleable__content\"><pre>LGBMClassifier(random_state=42)</pre></div></div></div></div></div>"
      ],
      "text/plain": [
       "LGBMClassifier(random_state=42)"
      ]
     },
     "execution_count": 70,
     "metadata": {},
     "output_type": "execute_result"
    }
   ],
   "source": [
    "model_1 = LGBMClassifier(random_state=42)\n",
    "model_1.fit(x_train_1, y_train_1)"
   ]
  },
  {
   "cell_type": "code",
   "execution_count": 71,
   "id": "4eba7221",
   "metadata": {},
   "outputs": [
    {
     "data": {
      "text/html": [
       "<style>#sk-container-id-2 {color: black;}#sk-container-id-2 pre{padding: 0;}#sk-container-id-2 div.sk-toggleable {background-color: white;}#sk-container-id-2 label.sk-toggleable__label {cursor: pointer;display: block;width: 100%;margin-bottom: 0;padding: 0.3em;box-sizing: border-box;text-align: center;}#sk-container-id-2 label.sk-toggleable__label-arrow:before {content: \"▸\";float: left;margin-right: 0.25em;color: #696969;}#sk-container-id-2 label.sk-toggleable__label-arrow:hover:before {color: black;}#sk-container-id-2 div.sk-estimator:hover label.sk-toggleable__label-arrow:before {color: black;}#sk-container-id-2 div.sk-toggleable__content {max-height: 0;max-width: 0;overflow: hidden;text-align: left;background-color: #f0f8ff;}#sk-container-id-2 div.sk-toggleable__content pre {margin: 0.2em;color: black;border-radius: 0.25em;background-color: #f0f8ff;}#sk-container-id-2 input.sk-toggleable__control:checked~div.sk-toggleable__content {max-height: 200px;max-width: 100%;overflow: auto;}#sk-container-id-2 input.sk-toggleable__control:checked~label.sk-toggleable__label-arrow:before {content: \"▾\";}#sk-container-id-2 div.sk-estimator input.sk-toggleable__control:checked~label.sk-toggleable__label {background-color: #d4ebff;}#sk-container-id-2 div.sk-label input.sk-toggleable__control:checked~label.sk-toggleable__label {background-color: #d4ebff;}#sk-container-id-2 input.sk-hidden--visually {border: 0;clip: rect(1px 1px 1px 1px);clip: rect(1px, 1px, 1px, 1px);height: 1px;margin: -1px;overflow: hidden;padding: 0;position: absolute;width: 1px;}#sk-container-id-2 div.sk-estimator {font-family: monospace;background-color: #f0f8ff;border: 1px dotted black;border-radius: 0.25em;box-sizing: border-box;margin-bottom: 0.5em;}#sk-container-id-2 div.sk-estimator:hover {background-color: #d4ebff;}#sk-container-id-2 div.sk-parallel-item::after {content: \"\";width: 100%;border-bottom: 1px solid gray;flex-grow: 1;}#sk-container-id-2 div.sk-label:hover label.sk-toggleable__label {background-color: #d4ebff;}#sk-container-id-2 div.sk-serial::before {content: \"\";position: absolute;border-left: 1px solid gray;box-sizing: border-box;top: 0;bottom: 0;left: 50%;z-index: 0;}#sk-container-id-2 div.sk-serial {display: flex;flex-direction: column;align-items: center;background-color: white;padding-right: 0.2em;padding-left: 0.2em;position: relative;}#sk-container-id-2 div.sk-item {position: relative;z-index: 1;}#sk-container-id-2 div.sk-parallel {display: flex;align-items: stretch;justify-content: center;background-color: white;position: relative;}#sk-container-id-2 div.sk-item::before, #sk-container-id-2 div.sk-parallel-item::before {content: \"\";position: absolute;border-left: 1px solid gray;box-sizing: border-box;top: 0;bottom: 0;left: 50%;z-index: -1;}#sk-container-id-2 div.sk-parallel-item {display: flex;flex-direction: column;z-index: 1;position: relative;background-color: white;}#sk-container-id-2 div.sk-parallel-item:first-child::after {align-self: flex-end;width: 50%;}#sk-container-id-2 div.sk-parallel-item:last-child::after {align-self: flex-start;width: 50%;}#sk-container-id-2 div.sk-parallel-item:only-child::after {width: 0;}#sk-container-id-2 div.sk-dashed-wrapped {border: 1px dashed gray;margin: 0 0.4em 0.5em 0.4em;box-sizing: border-box;padding-bottom: 0.4em;background-color: white;}#sk-container-id-2 div.sk-label label {font-family: monospace;font-weight: bold;display: inline-block;line-height: 1.2em;}#sk-container-id-2 div.sk-label-container {text-align: center;}#sk-container-id-2 div.sk-container {/* jupyter's `normalize.less` sets `[hidden] { display: none; }` but bootstrap.min.css set `[hidden] { display: none !important; }` so we also need the `!important` here to be able to override the default hidden behavior on the sphinx rendered scikit-learn.org. See: https://github.com/scikit-learn/scikit-learn/issues/21755 */display: inline-block !important;position: relative;}#sk-container-id-2 div.sk-text-repr-fallback {display: none;}</style><div id=\"sk-container-id-2\" class=\"sk-top-container\"><div class=\"sk-text-repr-fallback\"><pre>LGBMClassifier(learning_rate=0.05, random_state=42)</pre><b>In a Jupyter environment, please rerun this cell to show the HTML representation or trust the notebook. <br />On GitHub, the HTML representation is unable to render, please try loading this page with nbviewer.org.</b></div><div class=\"sk-container\" hidden><div class=\"sk-item\"><div class=\"sk-estimator sk-toggleable\"><input class=\"sk-toggleable__control sk-hidden--visually\" id=\"sk-estimator-id-2\" type=\"checkbox\" checked><label for=\"sk-estimator-id-2\" class=\"sk-toggleable__label sk-toggleable__label-arrow\">LGBMClassifier</label><div class=\"sk-toggleable__content\"><pre>LGBMClassifier(learning_rate=0.05, random_state=42)</pre></div></div></div></div></div>"
      ],
      "text/plain": [
       "LGBMClassifier(learning_rate=0.05, random_state=42)"
      ]
     },
     "execution_count": 71,
     "metadata": {},
     "output_type": "execute_result"
    }
   ],
   "source": [
    "model_2 = LGBMClassifier(random_state=42,\n",
    "                        learning_rate=0.05)\n",
    "model_2.fit(x_train_2, y_train_2)"
   ]
  },
  {
   "cell_type": "code",
   "execution_count": 72,
   "id": "0ddd77ff",
   "metadata": {},
   "outputs": [
    {
     "name": "stdout",
     "output_type": "stream",
     "text": [
      "0:\tlearn: 0.5374855\ttotal: 242ms\tremaining: 4m 1s\n",
      "200:\tlearn: 0.1158152\ttotal: 37s\tremaining: 2m 27s\n",
      "400:\tlearn: 0.1071848\ttotal: 1m 12s\tremaining: 1m 48s\n",
      "600:\tlearn: 0.1001774\ttotal: 1m 46s\tremaining: 1m 10s\n",
      "800:\tlearn: 0.0939471\ttotal: 2m 19s\tremaining: 34.8s\n",
      "999:\tlearn: 0.0883811\ttotal: 2m 51s\tremaining: 0us\n"
     ]
    },
    {
     "data": {
      "text/plain": [
       "<catboost.core.CatBoostClassifier at 0x2581e6ba810>"
      ]
     },
     "execution_count": 72,
     "metadata": {},
     "output_type": "execute_result"
    }
   ],
   "source": [
    "cat1.fit(x_train_1, y_train_1)"
   ]
  },
  {
   "cell_type": "code",
   "execution_count": 73,
   "id": "a4696dcc",
   "metadata": {},
   "outputs": [
    {
     "name": "stdout",
     "output_type": "stream",
     "text": [
      "0:\tlearn: 0.6078933\ttotal: 205ms\tremaining: 10m 14s\n",
      "200:\tlearn: 0.1066099\ttotal: 34.9s\tremaining: 8m 6s\n",
      "400:\tlearn: 0.1028462\ttotal: 1m 8s\tremaining: 7m 23s\n",
      "600:\tlearn: 0.0992152\ttotal: 1m 42s\tremaining: 6m 48s\n",
      "800:\tlearn: 0.0959544\ttotal: 2m 15s\tremaining: 6m 11s\n",
      "1000:\tlearn: 0.0929350\ttotal: 2m 46s\tremaining: 5m 32s\n",
      "1200:\tlearn: 0.0900767\ttotal: 3m 17s\tremaining: 4m 55s\n",
      "1400:\tlearn: 0.0873884\ttotal: 3m 52s\tremaining: 4m 25s\n",
      "1600:\tlearn: 0.0847502\ttotal: 4m 22s\tremaining: 3m 49s\n",
      "1800:\tlearn: 0.0822766\ttotal: 4m 52s\tremaining: 3m 14s\n",
      "2000:\tlearn: 0.0797791\ttotal: 5m 28s\tremaining: 2m 43s\n",
      "2200:\tlearn: 0.0774911\ttotal: 6m 1s\tremaining: 2m 11s\n",
      "2400:\tlearn: 0.0752251\ttotal: 6m 34s\tremaining: 1m 38s\n",
      "2600:\tlearn: 0.0730777\ttotal: 7m 5s\tremaining: 1m 5s\n",
      "2800:\tlearn: 0.0710360\ttotal: 7m 39s\tremaining: 32.6s\n",
      "2999:\tlearn: 0.0690011\ttotal: 8m 16s\tremaining: 0us\n"
     ]
    },
    {
     "data": {
      "text/plain": [
       "<catboost.core.CatBoostClassifier at 0x2581d3cdb90>"
      ]
     },
     "execution_count": 73,
     "metadata": {},
     "output_type": "execute_result"
    }
   ],
   "source": [
    "cat2.fit(x_train_2, y_train_2)"
   ]
  },
  {
   "cell_type": "markdown",
   "id": "49a6bc8c",
   "metadata": {},
   "source": [
    "# *часть с предсказаниями*"
   ]
  },
  {
   "cell_type": "code",
   "execution_count": 74,
   "id": "e6cc09c3",
   "metadata": {},
   "outputs": [
    {
     "data": {
      "text/plain": [
       "0.9420623383922897"
      ]
     },
     "execution_count": 74,
     "metadata": {},
     "output_type": "execute_result"
    }
   ],
   "source": [
    "y_pred_1 = cat1.predict_proba(x_val_1)[:, 1]\n",
    "roc_auc_score(y_val_1, y_pred_1)"
   ]
  },
  {
   "cell_type": "code",
   "execution_count": 75,
   "id": "35ed04cf",
   "metadata": {},
   "outputs": [
    {
     "data": {
      "text/plain": [
       "0.807055579673387"
      ]
     },
     "execution_count": 75,
     "metadata": {},
     "output_type": "execute_result"
    }
   ],
   "source": [
    "y_pred_2 = cat2.predict_proba(x_val_2)[:, 1]\n",
    "roc_auc_score(y_val_2, y_pred_2)"
   ]
  },
  {
   "cell_type": "code",
   "execution_count": 76,
   "id": "3ea9601c",
   "metadata": {},
   "outputs": [
    {
     "data": {
      "text/plain": [
       "0.9396236482407339"
      ]
     },
     "execution_count": 76,
     "metadata": {},
     "output_type": "execute_result"
    }
   ],
   "source": [
    "y_pred_3 = model_1.predict_proba(x_val_1)[:, 1]\n",
    "roc_auc_score(y_val_1, y_pred_3)"
   ]
  },
  {
   "cell_type": "code",
   "execution_count": 77,
   "id": "799e605c",
   "metadata": {},
   "outputs": [
    {
     "data": {
      "text/plain": [
       "0.7888654574690858"
      ]
     },
     "execution_count": 77,
     "metadata": {},
     "output_type": "execute_result"
    }
   ],
   "source": [
    "y_pred_4 = model_2.predict_proba(x_val_2)[:, 1]\n",
    "roc_auc_score(y_val_2, y_pred_4)"
   ]
  },
  {
   "cell_type": "code",
   "execution_count": 78,
   "id": "b68e5573",
   "metadata": {},
   "outputs": [],
   "source": [
    "y_val_list_1 = y_val_1.to_list()\n",
    "y_val_list_2 = y_val_2.to_list()"
   ]
  },
  {
   "cell_type": "code",
   "execution_count": 79,
   "id": "583d0355",
   "metadata": {},
   "outputs": [
    {
     "data": {
      "text/plain": [
       "[0, 0, 1, 0, 1]"
      ]
     },
     "execution_count": 79,
     "metadata": {},
     "output_type": "execute_result"
    }
   ],
   "source": [
    "y_val = [max(y_val_list_1[i], y_val_list_2[i]) for i in range(len(y_val_list_2))]\n",
    "y_val[:5]"
   ]
  },
  {
   "cell_type": "code",
   "execution_count": 80,
   "id": "f9ea7c06",
   "metadata": {},
   "outputs": [
    {
     "data": {
      "text/plain": [
       "array([0.03923361, 0.00605606, 0.14335305, 0.03283644, 0.0460142 ])"
      ]
     },
     "execution_count": 80,
     "metadata": {},
     "output_type": "execute_result"
    }
   ],
   "source": [
    "y_pred = (y_pred_4 + y_pred_3 + y_pred_2 + y_pred_1) *0.25\n",
    "y_pred[:5]"
   ]
  },
  {
   "cell_type": "code",
   "execution_count": 81,
   "id": "3d2ae196",
   "metadata": {},
   "outputs": [
    {
     "data": {
      "text/plain": [
       "0.9043804517025777"
      ]
     },
     "execution_count": 81,
     "metadata": {},
     "output_type": "execute_result"
    }
   ],
   "source": [
    "roc_auc_score(y_val, y_pred) #all на всех моделях"
   ]
  },
  {
   "cell_type": "code",
   "execution_count": 82,
   "id": "c2dff266",
   "metadata": {},
   "outputs": [
    {
     "data": {
      "text/plain": [
       "0.9049154184871239"
      ]
     },
     "execution_count": 82,
     "metadata": {},
     "output_type": "execute_result"
    }
   ],
   "source": [
    "y_pred = (y_pred_4*0.3 + y_pred_3*0.2 + y_pred_2*0.3 + y_pred_1*0.2)\n",
    "roc_auc_score(y_val, y_pred)"
   ]
  },
  {
   "cell_type": "code",
   "execution_count": 83,
   "id": "5c950801",
   "metadata": {},
   "outputs": [
    {
     "data": {
      "text/plain": [
       "0.9045118233957112"
      ]
     },
     "execution_count": 83,
     "metadata": {},
     "output_type": "execute_result"
    }
   ],
   "source": [
    "y_pred_cat = (y_pred_2 + y_pred_1)*0.5\n",
    "roc_auc_score(y_val, y_pred_cat) #catboost на всех моделях"
   ]
  },
  {
   "cell_type": "code",
   "execution_count": 84,
   "id": "a6ae5459",
   "metadata": {},
   "outputs": [
    {
     "data": {
      "text/plain": [
       "0.8967163996369801"
      ]
     },
     "execution_count": 84,
     "metadata": {},
     "output_type": "execute_result"
    }
   ],
   "source": [
    "y_pred_lgbm = (y_pred_3 + y_pred_4)*0.5\n",
    "roc_auc_score(y_val, y_pred_lgbm) #LGBM на всех моделях"
   ]
  },
  {
   "cell_type": "code",
   "execution_count": 85,
   "id": "e2c33cef",
   "metadata": {},
   "outputs": [],
   "source": [
    "test_score_1 = cat1.predict_proba(test_df)[:, 1]\n",
    "test_score_2 = cat2.predict_proba(test_df_2)[:, 1]\n",
    "test_score_3 = model_1.predict_proba(test_df)[:, 1]\n",
    "test_score_4 = model_2.predict_proba(test_df_2)[:, 1]"
   ]
  },
  {
   "cell_type": "code",
   "execution_count": 86,
   "id": "7a45740c",
   "metadata": {},
   "outputs": [],
   "source": [
    "test_score_ne = test_score_1*0.2 + test_score_2*0.3 + test_score_3*0.2 + test_score_4*0.3"
   ]
  },
  {
   "cell_type": "code",
   "execution_count": 87,
   "id": "5a5f10fa",
   "metadata": {},
   "outputs": [],
   "source": [
    "def download_results(test, name):\n",
    "    sample_submission_df = pd.read_csv(\"sample_submission.csv\")\n",
    "    sample_submission_df[\"score\"] = test\n",
    "    sample_submission_df.to_csv(name, index=False)"
   ]
  },
  {
   "cell_type": "code",
   "execution_count": 88,
   "id": "93663f7a",
   "metadata": {},
   "outputs": [],
   "source": [
    "download_results(test_score_ne, 'cat08748.csv')"
   ]
  },
  {
   "cell_type": "markdown",
   "id": "c259e2de",
   "metadata": {},
   "source": [
    "![](https://nashfotobank.ru/static2/preview2/stock-photo-3d-chelovechki-biznesmeny-24628.jpg)"
   ]
  },
  {
   "cell_type": "code",
   "execution_count": null,
   "id": "728c1187",
   "metadata": {},
   "outputs": [],
   "source": []
  }
 ],
 "metadata": {
  "colab": {
   "provenance": []
  },
  "kernelspec": {
   "display_name": "Python 3 (ipykernel)",
   "language": "python",
   "name": "python3"
  },
  "language_info": {
   "codemirror_mode": {
    "name": "ipython",
    "version": 3
   },
   "file_extension": ".py",
   "mimetype": "text/x-python",
   "name": "python",
   "nbconvert_exporter": "python",
   "pygments_lexer": "ipython3",
   "version": "3.11.5"
  }
 },
 "nbformat": 4,
 "nbformat_minor": 5
}
