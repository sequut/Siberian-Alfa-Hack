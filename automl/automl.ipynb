{
 "cells": [
  {
   "cell_type": "code",
   "execution_count": 1,
   "metadata": {},
   "outputs": [
    {
     "name": "stderr",
     "output_type": "stream",
     "text": [
      "/home/qwerty/.pyenv/versions/3.8.17/envs/automl/lib/python3.8/site-packages/tqdm/auto.py:21: TqdmWarning: IProgress not found. Please update jupyter and ipywidgets. See https://ipywidgets.readthedocs.io/en/stable/user_install.html\n",
      "  from .autonotebook import tqdm as notebook_tqdm\n"
     ]
    }
   ],
   "source": [
    "import os\n",
    "\n",
    "import pandas as pd\n",
    "from sklearn.metrics import roc_auc_score\n",
    "from lightautoml.automl.presets.tabular_presets import TabularAutoML\n",
    "from lightautoml.tasks import Task"
   ]
  },
  {
   "cell_type": "code",
   "execution_count": 2,
   "metadata": {},
   "outputs": [],
   "source": [
    "cat_cols = [\n",
    "    \"channel_code\",\n",
    "    \"city\",\n",
    "    \"city_type\",\n",
    "    \"index_city_code\",\n",
    "    \"ogrn_month\",\n",
    "    \"ogrn_year\",\n",
    "    \"branch_code\",\n",
    "    \"okved\",\n",
    "    \"segment\",\n",
    "]\n",
    "\n",
    "train = pd.read_parquet(os.path.join(\"data\", \"train.parquet\"))\n",
    "test = pd.read_parquet(os.path.join(\"data\", \"test.parquet\"))"
   ]
  },
  {
   "cell_type": "code",
   "execution_count": 3,
   "metadata": {},
   "outputs": [],
   "source": [
    "test.drop(columns=[\"id\"], inplace=True)"
   ]
  },
  {
   "cell_type": "code",
   "execution_count": 4,
   "metadata": {},
   "outputs": [],
   "source": [
    "automl = TabularAutoML(\n",
    "    task=Task(\n",
    "        name=\"binary\", metric='auc',\n",
    "    ),\n",
    "    cpu_limit=28,\n",
    "    memory_limit=50,\n",
    ")"
   ]
  },
  {
   "cell_type": "code",
   "execution_count": 5,
   "metadata": {},
   "outputs": [
    {
     "name": "stdout",
     "output_type": "stream",
     "text": [
      "[12:37:35] Stdout logging level is INFO.\n",
      "[12:37:35] Copying TaskTimer may affect the parent PipelineTimer, so copy will create new unlimited TaskTimer\n",
      "[12:37:35] Task: binary\n",
      "\n",
      "[12:37:35] Start automl preset with listed constraints:\n",
      "[12:37:35] - time: 3600.00 seconds\n",
      "[12:37:35] - CPU: 28 cores\n",
      "[12:37:35] - memory: 50 GB\n",
      "\n",
      "[12:37:35] \u001b[1mTrain data shape: (360000, 103)\u001b[0m\n",
      "\n"
     ]
    },
    {
     "name": "stderr",
     "output_type": "stream",
     "text": [
      "/home/qwerty/.pyenv/versions/3.8.17/envs/automl/lib/python3.8/site-packages/lightautoml/transformers/categorical.py:1029: FutureWarning: The series.append method is deprecated and will be removed from pandas in a future version. Use pandas.concat instead.\n",
      "  cnts = cnts.append(Series([cnts.shape[0] + 1], index=[np.nan]))\n",
      "/home/qwerty/.pyenv/versions/3.8.17/envs/automl/lib/python3.8/site-packages/lightautoml/transformers/categorical.py:1029: FutureWarning: The series.append method is deprecated and will be removed from pandas in a future version. Use pandas.concat instead.\n",
      "  cnts = cnts.append(Series([cnts.shape[0] + 1], index=[np.nan]))\n",
      "/home/qwerty/.pyenv/versions/3.8.17/envs/automl/lib/python3.8/site-packages/lightautoml/transformers/categorical.py:1029: FutureWarning: The series.append method is deprecated and will be removed from pandas in a future version. Use pandas.concat instead.\n",
      "  cnts = cnts.append(Series([cnts.shape[0] + 1], index=[np.nan]))\n",
      "/home/qwerty/.pyenv/versions/3.8.17/envs/automl/lib/python3.8/site-packages/lightautoml/transformers/categorical.py:1029: FutureWarning: The series.append method is deprecated and will be removed from pandas in a future version. Use pandas.concat instead.\n",
      "  cnts = cnts.append(Series([cnts.shape[0] + 1], index=[np.nan]))\n",
      "/home/qwerty/.pyenv/versions/3.8.17/envs/automl/lib/python3.8/site-packages/lightautoml/transformers/categorical.py:1029: FutureWarning: The series.append method is deprecated and will be removed from pandas in a future version. Use pandas.concat instead.\n",
      "  cnts = cnts.append(Series([cnts.shape[0] + 1], index=[np.nan]))\n",
      "/home/qwerty/.pyenv/versions/3.8.17/envs/automl/lib/python3.8/site-packages/lightautoml/transformers/categorical.py:1029: FutureWarning: The series.append method is deprecated and will be removed from pandas in a future version. Use pandas.concat instead.\n",
      "  cnts = cnts.append(Series([cnts.shape[0] + 1], index=[np.nan]))\n",
      "/home/qwerty/.pyenv/versions/3.8.17/envs/automl/lib/python3.8/site-packages/lightautoml/transformers/categorical.py:1029: FutureWarning: The series.append method is deprecated and will be removed from pandas in a future version. Use pandas.concat instead.\n",
      "  cnts = cnts.append(Series([cnts.shape[0] + 1], index=[np.nan]))\n",
      "/home/qwerty/.pyenv/versions/3.8.17/envs/automl/lib/python3.8/site-packages/lightautoml/transformers/categorical.py:1029: FutureWarning: The series.append method is deprecated and will be removed from pandas in a future version. Use pandas.concat instead.\n",
      "  cnts = cnts.append(Series([cnts.shape[0] + 1], index=[np.nan]))\n",
      "/home/qwerty/.pyenv/versions/3.8.17/envs/automl/lib/python3.8/site-packages/lightautoml/transformers/categorical.py:1029: FutureWarning: The series.append method is deprecated and will be removed from pandas in a future version. Use pandas.concat instead.\n",
      "  cnts = cnts.append(Series([cnts.shape[0] + 1], index=[np.nan]))\n"
     ]
    },
    {
     "name": "stdout",
     "output_type": "stream",
     "text": [
      "[12:37:41] Layer \u001b[1m1\u001b[0m train process start. Time left 3593.81 secs\n"
     ]
    },
    {
     "name": "stderr",
     "output_type": "stream",
     "text": [
      "/home/qwerty/.pyenv/versions/3.8.17/envs/automl/lib/python3.8/site-packages/lightautoml/transformers/categorical.py:1029: FutureWarning: The series.append method is deprecated and will be removed from pandas in a future version. Use pandas.concat instead.\n",
      "  cnts = cnts.append(Series([cnts.shape[0] + 1], index=[np.nan]))\n"
     ]
    },
    {
     "name": "stdout",
     "output_type": "stream",
     "text": [
      "[12:37:55] Start fitting \u001b[1mLvl_0_Pipe_0_Mod_0_LinearL2\u001b[0m ...\n",
      "[12:38:30] Fitting \u001b[1mLvl_0_Pipe_0_Mod_0_LinearL2\u001b[0m finished. score = \u001b[1m0.8177886265308336\u001b[0m\n",
      "[12:38:30] \u001b[1mLvl_0_Pipe_0_Mod_0_LinearL2\u001b[0m fitting and predicting completed\n",
      "[12:38:30] Time left 3544.47 secs\n",
      "\n"
     ]
    },
    {
     "name": "stderr",
     "output_type": "stream",
     "text": [
      "/home/qwerty/.pyenv/versions/3.8.17/envs/automl/lib/python3.8/site-packages/lightautoml/transformers/categorical.py:1029: FutureWarning: The series.append method is deprecated and will be removed from pandas in a future version. Use pandas.concat instead.\n",
      "  cnts = cnts.append(Series([cnts.shape[0] + 1], index=[np.nan]))\n",
      "/home/qwerty/.pyenv/versions/3.8.17/envs/automl/lib/python3.8/site-packages/lightautoml/transformers/categorical.py:1029: FutureWarning: The series.append method is deprecated and will be removed from pandas in a future version. Use pandas.concat instead.\n",
      "  cnts = cnts.append(Series([cnts.shape[0] + 1], index=[np.nan]))\n",
      "/home/qwerty/.pyenv/versions/3.8.17/envs/automl/lib/python3.8/site-packages/lightautoml/transformers/categorical.py:1029: FutureWarning: The series.append method is deprecated and will be removed from pandas in a future version. Use pandas.concat instead.\n",
      "  cnts = cnts.append(Series([cnts.shape[0] + 1], index=[np.nan]))\n",
      "/home/qwerty/.pyenv/versions/3.8.17/envs/automl/lib/python3.8/site-packages/lightautoml/transformers/categorical.py:1029: FutureWarning: The series.append method is deprecated and will be removed from pandas in a future version. Use pandas.concat instead.\n",
      "  cnts = cnts.append(Series([cnts.shape[0] + 1], index=[np.nan]))\n",
      "/home/qwerty/.pyenv/versions/3.8.17/envs/automl/lib/python3.8/site-packages/lightautoml/transformers/categorical.py:1029: FutureWarning: The series.append method is deprecated and will be removed from pandas in a future version. Use pandas.concat instead.\n",
      "  cnts = cnts.append(Series([cnts.shape[0] + 1], index=[np.nan]))\n",
      "/home/qwerty/.pyenv/versions/3.8.17/envs/automl/lib/python3.8/site-packages/lightautoml/transformers/categorical.py:1029: FutureWarning: The series.append method is deprecated and will be removed from pandas in a future version. Use pandas.concat instead.\n",
      "  cnts = cnts.append(Series([cnts.shape[0] + 1], index=[np.nan]))\n",
      "/home/qwerty/.pyenv/versions/3.8.17/envs/automl/lib/python3.8/site-packages/lightautoml/transformers/categorical.py:1029: FutureWarning: The series.append method is deprecated and will be removed from pandas in a future version. Use pandas.concat instead.\n",
      "  cnts = cnts.append(Series([cnts.shape[0] + 1], index=[np.nan]))\n",
      "/home/qwerty/.pyenv/versions/3.8.17/envs/automl/lib/python3.8/site-packages/lightautoml/transformers/categorical.py:1029: FutureWarning: The series.append method is deprecated and will be removed from pandas in a future version. Use pandas.concat instead.\n",
      "  cnts = cnts.append(Series([cnts.shape[0] + 1], index=[np.nan]))\n",
      "/home/qwerty/.pyenv/versions/3.8.17/envs/automl/lib/python3.8/site-packages/lightautoml/transformers/categorical.py:1029: FutureWarning: The series.append method is deprecated and will be removed from pandas in a future version. Use pandas.concat instead.\n",
      "  cnts = cnts.append(Series([cnts.shape[0] + 1], index=[np.nan]))\n"
     ]
    },
    {
     "name": "stdout",
     "output_type": "stream",
     "text": [
      "[12:39:10] \u001b[1mSelector_LightGBM\u001b[0m fitting and predicting completed\n",
      "[12:39:24] Start fitting \u001b[1mLvl_0_Pipe_1_Mod_0_LightGBM\u001b[0m ...\n"
     ]
    },
    {
     "name": "stderr",
     "output_type": "stream",
     "text": [
      "/home/qwerty/.pyenv/versions/3.8.17/envs/automl/lib/python3.8/site-packages/lightautoml/transformers/categorical.py:1029: FutureWarning: The series.append method is deprecated and will be removed from pandas in a future version. Use pandas.concat instead.\n",
      "  cnts = cnts.append(Series([cnts.shape[0] + 1], index=[np.nan]))\n"
     ]
    },
    {
     "name": "stdout",
     "output_type": "stream",
     "text": [
      "[12:41:41] Fitting \u001b[1mLvl_0_Pipe_1_Mod_0_LightGBM\u001b[0m finished. score = \u001b[1m0.919181287644747\u001b[0m\n",
      "[12:41:41] \u001b[1mLvl_0_Pipe_1_Mod_0_LightGBM\u001b[0m fitting and predicting completed\n",
      "[12:41:41] Start hyperparameters optimization for \u001b[1mLvl_0_Pipe_1_Mod_1_Tuned_LightGBM\u001b[0m ... Time budget is 300.00 secs\n",
      "[12:46:54] Hyperparameters optimization for \u001b[1mLvl_0_Pipe_1_Mod_1_Tuned_LightGBM\u001b[0m completed\n",
      "[12:46:54] Start fitting \u001b[1mLvl_0_Pipe_1_Mod_1_Tuned_LightGBM\u001b[0m ...\n",
      "[12:49:04] Fitting \u001b[1mLvl_0_Pipe_1_Mod_1_Tuned_LightGBM\u001b[0m finished. score = \u001b[1m0.9205288867094455\u001b[0m\n",
      "[12:49:04] \u001b[1mLvl_0_Pipe_1_Mod_1_Tuned_LightGBM\u001b[0m fitting and predicting completed\n",
      "[12:49:04] Start fitting \u001b[1mLvl_0_Pipe_1_Mod_2_CatBoost\u001b[0m ...\n"
     ]
    },
    {
     "name": "stderr",
     "output_type": "stream",
     "text": [
      "Default metric period is 5 because AUC is/are not implemented for GPU\n",
      "Default metric period is 5 because AUC is/are not implemented for GPU\n",
      "Default metric period is 5 because AUC is/are not implemented for GPU\n",
      "Default metric period is 5 because AUC is/are not implemented for GPU\n",
      "Default metric period is 5 because AUC is/are not implemented for GPU\n"
     ]
    },
    {
     "name": "stdout",
     "output_type": "stream",
     "text": [
      "[12:49:58] Fitting \u001b[1mLvl_0_Pipe_1_Mod_2_CatBoost\u001b[0m finished. score = \u001b[1m0.8950951637111908\u001b[0m\n",
      "[12:49:58] \u001b[1mLvl_0_Pipe_1_Mod_2_CatBoost\u001b[0m fitting and predicting completed\n",
      "[12:49:58] Start hyperparameters optimization for \u001b[1mLvl_0_Pipe_1_Mod_3_Tuned_CatBoost\u001b[0m ... Time budget is 300.00 secs\n"
     ]
    },
    {
     "name": "stderr",
     "output_type": "stream",
     "text": [
      "Default metric period is 5 because AUC is/are not implemented for GPU\n",
      "Default metric period is 5 because AUC is/are not implemented for GPU\n",
      "Default metric period is 5 because AUC is/are not implemented for GPU\n",
      "Default metric period is 5 because AUC is/are not implemented for GPU\n",
      "Default metric period is 5 because AUC is/are not implemented for GPU\n",
      "Default metric period is 5 because AUC is/are not implemented for GPU\n",
      "Default metric period is 5 because AUC is/are not implemented for GPU\n",
      "Default metric period is 5 because AUC is/are not implemented for GPU\n",
      "Default metric period is 5 because AUC is/are not implemented for GPU\n",
      "Default metric period is 5 because AUC is/are not implemented for GPU\n",
      "Default metric period is 5 because AUC is/are not implemented for GPU\n",
      "Default metric period is 5 because AUC is/are not implemented for GPU\n",
      "Default metric period is 5 because AUC is/are not implemented for GPU\n",
      "Default metric period is 5 because AUC is/are not implemented for GPU\n",
      "Default metric period is 5 because AUC is/are not implemented for GPU\n",
      "Default metric period is 5 because AUC is/are not implemented for GPU\n",
      "Default metric period is 5 because AUC is/are not implemented for GPU\n",
      "Default metric period is 5 because AUC is/are not implemented for GPU\n",
      "Default metric period is 5 because AUC is/are not implemented for GPU\n",
      "Default metric period is 5 because AUC is/are not implemented for GPU\n",
      "Default metric period is 5 because AUC is/are not implemented for GPU\n",
      "Default metric period is 5 because AUC is/are not implemented for GPU\n",
      "Default metric period is 5 because AUC is/are not implemented for GPU\n",
      "Default metric period is 5 because AUC is/are not implemented for GPU\n",
      "Default metric period is 5 because AUC is/are not implemented for GPU\n",
      "Default metric period is 5 because AUC is/are not implemented for GPU\n",
      "Default metric period is 5 because AUC is/are not implemented for GPU\n",
      "Default metric period is 5 because AUC is/are not implemented for GPU\n",
      "Default metric period is 5 because AUC is/are not implemented for GPU\n",
      "Default metric period is 5 because AUC is/are not implemented for GPU\n",
      "Default metric period is 5 because AUC is/are not implemented for GPU\n",
      "Default metric period is 5 because AUC is/are not implemented for GPU\n"
     ]
    },
    {
     "name": "stdout",
     "output_type": "stream",
     "text": [
      "[12:55:01] Hyperparameters optimization for \u001b[1mLvl_0_Pipe_1_Mod_3_Tuned_CatBoost\u001b[0m completed\n",
      "[12:55:01] Start fitting \u001b[1mLvl_0_Pipe_1_Mod_3_Tuned_CatBoost\u001b[0m ...\n"
     ]
    },
    {
     "name": "stderr",
     "output_type": "stream",
     "text": [
      "Default metric period is 5 because AUC is/are not implemented for GPU\n",
      "Default metric period is 5 because AUC is/are not implemented for GPU\n",
      "Default metric period is 5 because AUC is/are not implemented for GPU\n",
      "Default metric period is 5 because AUC is/are not implemented for GPU\n",
      "Default metric period is 5 because AUC is/are not implemented for GPU\n"
     ]
    },
    {
     "name": "stdout",
     "output_type": "stream",
     "text": [
      "[12:56:23] Fitting \u001b[1mLvl_0_Pipe_1_Mod_3_Tuned_CatBoost\u001b[0m finished. score = \u001b[1m0.9004762029885859\u001b[0m\n",
      "[12:56:23] \u001b[1mLvl_0_Pipe_1_Mod_3_Tuned_CatBoost\u001b[0m fitting and predicting completed\n",
      "[12:56:23] Time left 2471.82 secs\n",
      "\n",
      "[12:56:23] \u001b[1mLayer 1 training completed.\u001b[0m\n",
      "\n",
      "[12:56:23] Blending: optimization starts with equal weights and score \u001b[1m0.9149809101616154\u001b[0m\n",
      "[12:56:26] Blending: iteration \u001b[1m0\u001b[0m: score = \u001b[1m0.9223904734285879\u001b[0m, weights = \u001b[1m[0.         0.3332611  0.6110108  0.05572809 0.        ]\u001b[0m\n",
      "[12:56:29] Blending: iteration \u001b[1m1\u001b[0m: score = \u001b[1m0.9223770918622792\u001b[0m, weights = \u001b[1m[0.         0.3214833  0.6244415  0.05407522 0.        ]\u001b[0m\n",
      "[12:56:31] Blending: iteration \u001b[1m2\u001b[0m: score = \u001b[1m0.9223770916262228\u001b[0m, weights = \u001b[1m[0.         0.32148328 0.62444144 0.05407522 0.        ]\u001b[0m\n",
      "[12:56:34] Blending: iteration \u001b[1m3\u001b[0m: score = \u001b[1m0.9223770916262228\u001b[0m, weights = \u001b[1m[0.         0.32148328 0.62444144 0.05407522 0.        ]\u001b[0m\n",
      "[12:56:34] Blending: no score update. Terminated\n",
      "\n",
      "[12:56:34] \u001b[1mAutoml preset training completed in 1138.83 seconds\u001b[0m\n",
      "\n",
      "[12:56:34] Model description:\n",
      "Final prediction for new objects (level 0) = \n",
      "\t 0.32148 * (5 averaged models Lvl_0_Pipe_1_Mod_0_LightGBM) +\n",
      "\t 0.62444 * (5 averaged models Lvl_0_Pipe_1_Mod_1_Tuned_LightGBM) +\n",
      "\t 0.05408 * (5 averaged models Lvl_0_Pipe_1_Mod_2_CatBoost) \n",
      "\n"
     ]
    }
   ],
   "source": [
    "oof_pred = automl.fit_predict(\n",
    "    train, roles={\"target\": \"total_target\", \"drop\": [\"id\", \"target_1\", \"target_2\"], \"category\": cat_cols}, verbose=1\n",
    ")"
   ]
  },
  {
   "cell_type": "code",
   "execution_count": 6,
   "metadata": {},
   "outputs": [],
   "source": [
    "test_pred = automl.predict(test)"
   ]
  },
  {
   "cell_type": "code",
   "execution_count": 29,
   "metadata": {},
   "outputs": [],
   "source": [
    "submission = pd.read_csv(os.path.join(\"data\", \"sample_submission.csv\"))"
   ]
  },
  {
   "cell_type": "code",
   "execution_count": 41,
   "metadata": {},
   "outputs": [],
   "source": [
    "submission.loc[:, \"score\"] = test_pred.data[:, 0]"
   ]
  },
  {
   "cell_type": "code",
   "execution_count": 43,
   "metadata": {},
   "outputs": [],
   "source": [
    "submission.to_csv(os.path.join(\"data\", \"automl.csv\"))"
   ]
  },
  {
   "cell_type": "code",
   "execution_count": 44,
   "metadata": {},
   "outputs": [],
   "source": [
    "import joblib"
   ]
  },
  {
   "cell_type": "code",
   "execution_count": 45,
   "metadata": {},
   "outputs": [
    {
     "data": {
      "text/plain": [
       "['models/automl.pkl']"
      ]
     },
     "execution_count": 45,
     "metadata": {},
     "output_type": "execute_result"
    }
   ],
   "source": [
    "joblib.dump(automl, os.path.join(\"models\", \"automl.pkl\"))"
   ]
  }
 ],
 "metadata": {
  "kernelspec": {
   "display_name": "tabular_ml",
   "language": "python",
   "name": "python3"
  },
  "language_info": {
   "codemirror_mode": {
    "name": "ipython",
    "version": 3
   },
   "file_extension": ".py",
   "mimetype": "text/x-python",
   "name": "python",
   "nbconvert_exporter": "python",
   "pygments_lexer": "ipython3",
   "version": "3.8.17"
  }
 },
 "nbformat": 4,
 "nbformat_minor": 2
}
